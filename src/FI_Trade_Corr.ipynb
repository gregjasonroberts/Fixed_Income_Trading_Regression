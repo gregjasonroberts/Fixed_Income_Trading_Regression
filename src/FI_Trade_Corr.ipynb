{
 "cells": [
  {
   "cell_type": "markdown",
   "metadata": {},
   "source": [
    "# Run our regressions over a 5yr period for resampled fixed income volume data, MOVE Index, and the weekly Primary Dealer Data"
   ]
  },
  {
   "cell_type": "code",
   "execution_count": 1,
   "metadata": {},
   "outputs": [
    {
     "name": "stdout",
     "output_type": "stream",
     "text": [
      "Collecting yellowbrick\n",
      "\u001b[?25l  Downloading https://files.pythonhosted.org/packages/3a/15/58feb940b6a2f52d3335cccf9e5d00704ec5ba62782da83f7e2abeca5e4b/yellowbrick-1.3.post1-py3-none-any.whl (271kB)\n",
      "\u001b[K     |████████████████████████████████| 276kB 18.1MB/s eta 0:00:01\n",
      "\u001b[?25hRequirement already satisfied: numpy<1.20,>=1.16.0 in /home/jupyterlab/conda/envs/python/lib/python3.6/site-packages (from yellowbrick) (1.19.4)\n",
      "Requirement already satisfied: matplotlib!=3.0.0,>=2.0.2 in /home/jupyterlab/conda/envs/python/lib/python3.6/site-packages (from yellowbrick) (3.3.3)\n",
      "Requirement already satisfied: cycler>=0.10.0 in /home/jupyterlab/conda/envs/python/lib/python3.6/site-packages (from yellowbrick) (0.10.0)\n",
      "Requirement already satisfied: scipy>=1.0.0 in /home/jupyterlab/conda/envs/python/lib/python3.6/site-packages (from yellowbrick) (1.5.4)\n",
      "Requirement already satisfied: scikit-learn>=0.20 in /home/jupyterlab/conda/envs/python/lib/python3.6/site-packages (from yellowbrick) (0.20.1)\n",
      "Requirement already satisfied: pyparsing!=2.0.4,!=2.1.2,!=2.1.6,>=2.0.3 in /home/jupyterlab/conda/envs/python/lib/python3.6/site-packages (from matplotlib!=3.0.0,>=2.0.2->yellowbrick) (2.4.7)\n",
      "Requirement already satisfied: pillow>=6.2.0 in /home/jupyterlab/conda/envs/python/lib/python3.6/site-packages (from matplotlib!=3.0.0,>=2.0.2->yellowbrick) (8.0.1)\n",
      "Requirement already satisfied: python-dateutil>=2.1 in /home/jupyterlab/conda/envs/python/lib/python3.6/site-packages (from matplotlib!=3.0.0,>=2.0.2->yellowbrick) (2.8.1)\n",
      "Requirement already satisfied: kiwisolver>=1.0.1 in /home/jupyterlab/conda/envs/python/lib/python3.6/site-packages (from matplotlib!=3.0.0,>=2.0.2->yellowbrick) (1.3.1)\n",
      "Requirement already satisfied: six in /home/jupyterlab/conda/envs/python/lib/python3.6/site-packages (from cycler>=0.10.0->yellowbrick) (1.15.0)\n",
      "Installing collected packages: yellowbrick\n",
      "Successfully installed yellowbrick-1.3.post1\n",
      "Collecting seaborn\n",
      "\u001b[?25l  Downloading https://files.pythonhosted.org/packages/68/ad/6c2406ae175f59ec616714e408979b674fe27b9587f79d59a528ddfbcd5b/seaborn-0.11.1-py3-none-any.whl (285kB)\n",
      "\u001b[K     |████████████████████████████████| 286kB 11.3MB/s eta 0:00:01\n",
      "\u001b[?25hRequirement already satisfied, skipping upgrade: scipy>=1.0 in /home/jupyterlab/conda/envs/python/lib/python3.6/site-packages (from seaborn) (1.5.4)\n",
      "Requirement already satisfied, skipping upgrade: numpy>=1.15 in /home/jupyterlab/conda/envs/python/lib/python3.6/site-packages (from seaborn) (1.19.4)\n",
      "Requirement already satisfied, skipping upgrade: matplotlib>=2.2 in /home/jupyterlab/conda/envs/python/lib/python3.6/site-packages (from seaborn) (3.3.3)\n",
      "Requirement already satisfied, skipping upgrade: pandas>=0.23 in /home/jupyterlab/conda/envs/python/lib/python3.6/site-packages (from seaborn) (1.1.5)\n",
      "Requirement already satisfied, skipping upgrade: pyparsing!=2.0.4,!=2.1.2,!=2.1.6,>=2.0.3 in /home/jupyterlab/conda/envs/python/lib/python3.6/site-packages (from matplotlib>=2.2->seaborn) (2.4.7)\n",
      "Requirement already satisfied, skipping upgrade: pillow>=6.2.0 in /home/jupyterlab/conda/envs/python/lib/python3.6/site-packages (from matplotlib>=2.2->seaborn) (8.0.1)\n",
      "Requirement already satisfied, skipping upgrade: python-dateutil>=2.1 in /home/jupyterlab/conda/envs/python/lib/python3.6/site-packages (from matplotlib>=2.2->seaborn) (2.8.1)\n",
      "Requirement already satisfied, skipping upgrade: kiwisolver>=1.0.1 in /home/jupyterlab/conda/envs/python/lib/python3.6/site-packages (from matplotlib>=2.2->seaborn) (1.3.1)\n",
      "Requirement already satisfied, skipping upgrade: cycler>=0.10 in /home/jupyterlab/conda/envs/python/lib/python3.6/site-packages (from matplotlib>=2.2->seaborn) (0.10.0)\n",
      "Requirement already satisfied, skipping upgrade: pytz>=2017.2 in /home/jupyterlab/conda/envs/python/lib/python3.6/site-packages (from pandas>=0.23->seaborn) (2020.4)\n",
      "Requirement already satisfied, skipping upgrade: six>=1.5 in /home/jupyterlab/conda/envs/python/lib/python3.6/site-packages (from python-dateutil>=2.1->matplotlib>=2.2->seaborn) (1.15.0)\n",
      "Installing collected packages: seaborn\n",
      "  Found existing installation: seaborn 0.9.0\n",
      "    Uninstalling seaborn-0.9.0:\n",
      "      Successfully uninstalled seaborn-0.9.0\n",
      "Successfully installed seaborn-0.11.1\n",
      "Requirement already satisfied: statsmodels in /home/jupyterlab/conda/envs/python/lib/python3.6/site-packages (0.12.0)\n",
      "Requirement already satisfied: numpy>=1.15 in /home/jupyterlab/conda/envs/python/lib/python3.6/site-packages (from statsmodels) (1.19.4)\n",
      "Requirement already satisfied: pandas>=0.21 in /home/jupyterlab/conda/envs/python/lib/python3.6/site-packages (from statsmodels) (1.1.5)\n",
      "Requirement already satisfied: scipy>=1.1 in /home/jupyterlab/conda/envs/python/lib/python3.6/site-packages (from statsmodels) (1.5.4)\n",
      "Requirement already satisfied: patsy>=0.5 in /home/jupyterlab/conda/envs/python/lib/python3.6/site-packages (from statsmodels) (0.5.1)\n",
      "Requirement already satisfied: pytz>=2017.2 in /home/jupyterlab/conda/envs/python/lib/python3.6/site-packages (from pandas>=0.21->statsmodels) (2020.4)\n",
      "Requirement already satisfied: python-dateutil>=2.7.3 in /home/jupyterlab/conda/envs/python/lib/python3.6/site-packages (from pandas>=0.21->statsmodels) (2.8.1)\n",
      "Requirement already satisfied: six in /home/jupyterlab/conda/envs/python/lib/python3.6/site-packages (from patsy>=0.5->statsmodels) (1.15.0)\n",
      "Collecting XlsxWriter\n",
      "\u001b[?25l  Downloading https://files.pythonhosted.org/packages/6b/41/bf1aae04932d1eaffee1fc5f8b38ca47bbbf07d765129539bc4bcce1ce0c/XlsxWriter-1.3.7-py2.py3-none-any.whl (144kB)\n",
      "\u001b[K     |████████████████████████████████| 153kB 4.7MB/s eta 0:00:01\n",
      "\u001b[?25hInstalling collected packages: XlsxWriter\n",
      "Successfully installed XlsxWriter-1.3.7\n",
      "Collecting openpyxl\n",
      "\u001b[?25l  Downloading https://files.pythonhosted.org/packages/d4/c5/1a5f82b3020bfb27f21b302f96c8ae6a34475070015d1b1e0b197a97e2af/openpyxl-3.0.6-py2.py3-none-any.whl (242kB)\n",
      "\u001b[K     |████████████████████████████████| 245kB 7.7MB/s eta 0:00:01\n",
      "\u001b[?25hCollecting et-xmlfile (from openpyxl)\n",
      "  Downloading https://files.pythonhosted.org/packages/22/28/a99c42aea746e18382ad9fb36f64c1c1f04216f41797f2f0fa567da11388/et_xmlfile-1.0.1.tar.gz\n",
      "Collecting jdcal (from openpyxl)\n",
      "  Downloading https://files.pythonhosted.org/packages/f0/da/572cbc0bc582390480bbd7c4e93d14dc46079778ed915b505dc494b37c57/jdcal-1.4.1-py2.py3-none-any.whl\n",
      "Building wheels for collected packages: et-xmlfile\n",
      "  Building wheel for et-xmlfile (setup.py) ... \u001b[?25ldone\n",
      "\u001b[?25h  Stored in directory: /home/jupyterlab/.cache/pip/wheels/2a/77/35/0da0965a057698121fc7d8c5a7a9955cdbfb3cc4e2423cad39\n",
      "Successfully built et-xmlfile\n",
      "Installing collected packages: et-xmlfile, jdcal, openpyxl\n",
      "Successfully installed et-xmlfile-1.0.1 jdcal-1.4.1 openpyxl-3.0.6\n"
     ]
    }
   ],
   "source": [
    "!pip install yellowbrick\n",
    "!pip install -U seaborn\n",
    "!pip install statsmodels\n",
    "!pip install XlsxWriter\n",
    "!pip install openpyxl"
   ]
  },
  {
   "cell_type": "code",
   "execution_count": 16,
   "metadata": {},
   "outputs": [],
   "source": [
    "import pandas as pd\n",
    "import numpy as np\n",
    "\n",
    "import datetime as dt \n",
    "import matplotlib.pyplot as plt\n",
    "import seaborn as sns\n",
    "\n",
    "pd.options.mode.chained_assignment = None\n",
    "pd.set_option('display.max_rows', None)\n",
    "import warnings\n",
    "warnings.filterwarnings('ignore')\n",
    "\n",
    "import statsmodels.api as sm\n",
    "\n",
    "# for the Q-Q plots\n",
    "import scipy.stats as stats\n",
    "\n",
    "# for linear regression\n",
    "from sklearn.linear_model import LinearRegression\n",
    "\n",
    "# to split and standarize the dataset\n",
    "from sklearn.model_selection import train_test_split\n",
    "from sklearn.preprocessing import StandardScaler\n",
    "\n",
    "# to evaluate the regression model\n",
    "from sklearn.metrics import mean_squared_error\n",
    "from sklearn.metrics import r2_score\n",
    "\n",
    "import openpyxl\n",
    "from openpyxl import Workbook\n",
    "\n",
    "# a library for visualisation of machine learning model performance\n",
    "from yellowbrick.regressor import ResidualsPlot\n",
    "\n",
    "import pickle"
   ]
  },
  {
   "cell_type": "markdown",
   "metadata": {},
   "source": [
    "### Load our datasets"
   ]
  },
  {
   "cell_type": "code",
   "execution_count": 3,
   "metadata": {},
   "outputs": [],
   "source": [
    "fi_daily_trades = \"DailyTradeCounts_2016_2020.xlsx\"\n",
    "FT_pg1 = pd.read_excel(fi_daily_trades, sheet_name=\"20160101_20181130\")\n",
    "FT_pg2 = pd.read_excel(fi_daily_trades, sheet_name=\"20181201_20200730\")\n",
    "FT_volumes = pd.concat([FT_pg1,FT_pg2])\n",
    "\n",
    "move_all = \"MOVE Index 16 18.xlsx\"\n",
    "move_daily1 = pd.read_excel(move_all, sheet_name=\"Sheet1\", \n",
    "                           header=1,skiprows=5)\n",
    "move_index = \"MOVE Index Data.xlsx\"\n",
    "move_daily2 = pd.read_excel(move_index, sheet_name=\"2yr Daily\", \n",
    "                           header=1,skiprows=4)"
   ]
  },
  {
   "cell_type": "code",
   "execution_count": 18,
   "metadata": {},
   "outputs": [],
   "source": [
    "primary_dealers = \"NY Fed Primary Dealer Trade Volumes.xlsx\"\n",
    "dealer_volumes_df = pd.read_excel(primary_dealers, sheet_name=\"Sheet1\")"
   ]
  },
  {
   "cell_type": "markdown",
   "metadata": {},
   "source": [
    "### We'll take each dataset and clean them up before merging into a single dataframe."
   ]
  },
  {
   "cell_type": "markdown",
   "metadata": {},
   "source": [
    "### Let's first review the MOVE Index"
   ]
  },
  {
   "cell_type": "code",
   "execution_count": 5,
   "metadata": {},
   "outputs": [
    {
     "data": {
      "text/html": [
       "<div>\n",
       "<style scoped>\n",
       "    .dataframe tbody tr th:only-of-type {\n",
       "        vertical-align: middle;\n",
       "    }\n",
       "\n",
       "    .dataframe tbody tr th {\n",
       "        vertical-align: top;\n",
       "    }\n",
       "\n",
       "    .dataframe thead th {\n",
       "        text-align: right;\n",
       "    }\n",
       "</style>\n",
       "<table border=\"1\" class=\"dataframe\">\n",
       "  <thead>\n",
       "    <tr style=\"text-align: right;\">\n",
       "      <th></th>\n",
       "      <th>Day</th>\n",
       "      <th>Date</th>\n",
       "      <th>Last Px</th>\n",
       "      <th>Unnamed: 3</th>\n",
       "    </tr>\n",
       "  </thead>\n",
       "  <tbody>\n",
       "    <tr>\n",
       "      <th>0</th>\n",
       "      <td>Tu</td>\n",
       "      <td>2018-07-31 00:00:00</td>\n",
       "      <td>46.5038</td>\n",
       "      <td></td>\n",
       "    </tr>\n",
       "    <tr>\n",
       "      <th>1</th>\n",
       "      <td>Mo</td>\n",
       "      <td>2018-07-30 00:00:00</td>\n",
       "      <td>49.4151</td>\n",
       "      <td></td>\n",
       "    </tr>\n",
       "    <tr>\n",
       "      <th>2</th>\n",
       "      <td></td>\n",
       "      <td></td>\n",
       "      <td></td>\n",
       "      <td></td>\n",
       "    </tr>\n",
       "    <tr>\n",
       "      <th>3</th>\n",
       "      <td>Fr</td>\n",
       "      <td>2018-07-27 00:00:00</td>\n",
       "      <td>48.8313</td>\n",
       "      <td></td>\n",
       "    </tr>\n",
       "    <tr>\n",
       "      <th>4</th>\n",
       "      <td>Th</td>\n",
       "      <td>2018-07-26 00:00:00</td>\n",
       "      <td>49.2705</td>\n",
       "      <td></td>\n",
       "    </tr>\n",
       "  </tbody>\n",
       "</table>\n",
       "</div>"
      ],
      "text/plain": [
       "  Day                 Date  Last Px Unnamed: 3\n",
       "0  Tu  2018-07-31 00:00:00  46.5038           \n",
       "1  Mo  2018-07-30 00:00:00  49.4151           \n",
       "2                                             \n",
       "3  Fr  2018-07-27 00:00:00  48.8313           \n",
       "4  Th  2018-07-26 00:00:00  49.2705           "
      ]
     },
     "execution_count": 5,
     "metadata": {},
     "output_type": "execute_result"
    }
   ],
   "source": [
    "move_daily1.rename(columns={'Date':'Day','Last Px': 'Date', 'Unnamed: 2':'Last Px'}, inplace=True)\n",
    "move_daily1.head()"
   ]
  },
  {
   "cell_type": "code",
   "execution_count": 6,
   "metadata": {},
   "outputs": [],
   "source": [
    "#stitch the files together\n",
    "move_daily = pd.concat([move_daily2,move_daily1],ignore_index=True)"
   ]
  },
  {
   "cell_type": "code",
   "execution_count": 7,
   "metadata": {},
   "outputs": [
    {
     "data": {
      "text/html": [
       "<div>\n",
       "<style scoped>\n",
       "    .dataframe tbody tr th:only-of-type {\n",
       "        vertical-align: middle;\n",
       "    }\n",
       "\n",
       "    .dataframe tbody tr th {\n",
       "        vertical-align: top;\n",
       "    }\n",
       "\n",
       "    .dataframe thead th {\n",
       "        text-align: right;\n",
       "    }\n",
       "</style>\n",
       "<table border=\"1\" class=\"dataframe\">\n",
       "  <thead>\n",
       "    <tr style=\"text-align: right;\">\n",
       "      <th></th>\n",
       "      <th>Date</th>\n",
       "      <th>MOVE Index</th>\n",
       "    </tr>\n",
       "  </thead>\n",
       "  <tbody>\n",
       "    <tr>\n",
       "      <th>1154</th>\n",
       "      <td>2015-12-25</td>\n",
       "      <td>65.4655</td>\n",
       "    </tr>\n",
       "    <tr>\n",
       "      <th>1155</th>\n",
       "      <td>2015-12-24</td>\n",
       "      <td>65.4655</td>\n",
       "    </tr>\n",
       "    <tr>\n",
       "      <th>1156</th>\n",
       "      <td>2015-12-23</td>\n",
       "      <td>66.0201</td>\n",
       "    </tr>\n",
       "    <tr>\n",
       "      <th>1157</th>\n",
       "      <td>2015-12-22</td>\n",
       "      <td>66.8957</td>\n",
       "    </tr>\n",
       "    <tr>\n",
       "      <th>1158</th>\n",
       "      <td>2015-12-21</td>\n",
       "      <td>66.3699</td>\n",
       "    </tr>\n",
       "  </tbody>\n",
       "</table>\n",
       "</div>"
      ],
      "text/plain": [
       "            Date  MOVE Index\n",
       "1154  2015-12-25     65.4655\n",
       "1155  2015-12-24     65.4655\n",
       "1156  2015-12-23     66.0201\n",
       "1157  2015-12-22     66.8957\n",
       "1158  2015-12-21     66.3699"
      ]
     },
     "execution_count": 7,
     "metadata": {},
     "output_type": "execute_result"
    }
   ],
   "source": [
    "#Clean up the data\n",
    "\n",
    "move_daily.drop(['Day','Unnamed: 3'], axis=1, inplace=True)\n",
    "move_daily.dropna(inplace=True)\n",
    "move_daily.reset_index(drop=True, inplace=True)\n",
    "\n",
    "move_index= move_daily[['Date','Last Px']]\n",
    "move_index.rename(columns={'Last Px': 'MOVE Index'}, inplace=True)\n",
    "move_index['MOVE Index'] = pd.to_numeric(move_index['MOVE Index'], errors='coerce')\n",
    "move_index['Date'] = pd.to_datetime(move_index['Date'], errors='coerce')\n",
    "move_index[\"Date\"] = pd.to_datetime(move_index[\"Date\"], format = '%Y%m').dt.to_period('d')\n",
    "move_index = move_index.dropna()\n",
    "move_index = move_index.reset_index(drop=True)\n",
    "move_index.tail()\n"
   ]
  },
  {
   "cell_type": "markdown",
   "metadata": {},
   "source": [
    "### Now we can resample the data"
   ]
  },
  {
   "cell_type": "markdown",
   "metadata": {},
   "source": [
    "**Resample the daily data into weekly to compare with the weekly dealer volumes**"
   ]
  },
  {
   "cell_type": "code",
   "execution_count": 8,
   "metadata": {},
   "outputs": [
    {
     "data": {
      "text/html": [
       "<div>\n",
       "<style scoped>\n",
       "    .dataframe tbody tr th:only-of-type {\n",
       "        vertical-align: middle;\n",
       "    }\n",
       "\n",
       "    .dataframe tbody tr th {\n",
       "        vertical-align: top;\n",
       "    }\n",
       "\n",
       "    .dataframe thead th {\n",
       "        text-align: right;\n",
       "    }\n",
       "</style>\n",
       "<table border=\"1\" class=\"dataframe\">\n",
       "  <thead>\n",
       "    <tr style=\"text-align: right;\">\n",
       "      <th></th>\n",
       "      <th>Date</th>\n",
       "      <th>MOVE Index</th>\n",
       "    </tr>\n",
       "  </thead>\n",
       "  <tbody>\n",
       "    <tr>\n",
       "      <th>0</th>\n",
       "      <td>2016-01-06</td>\n",
       "      <td>71.55325</td>\n",
       "    </tr>\n",
       "    <tr>\n",
       "      <th>1</th>\n",
       "      <td>2016-01-13</td>\n",
       "      <td>72.53234</td>\n",
       "    </tr>\n",
       "    <tr>\n",
       "      <th>2</th>\n",
       "      <td>2016-01-20</td>\n",
       "      <td>77.77548</td>\n",
       "    </tr>\n",
       "    <tr>\n",
       "      <th>3</th>\n",
       "      <td>2016-01-27</td>\n",
       "      <td>76.11602</td>\n",
       "    </tr>\n",
       "    <tr>\n",
       "      <th>4</th>\n",
       "      <td>2016-02-03</td>\n",
       "      <td>75.11190</td>\n",
       "    </tr>\n",
       "  </tbody>\n",
       "</table>\n",
       "</div>"
      ],
      "text/plain": [
       "        Date  MOVE Index\n",
       "0 2016-01-06    71.55325\n",
       "1 2016-01-13    72.53234\n",
       "2 2016-01-20    77.77548\n",
       "3 2016-01-27    76.11602\n",
       "4 2016-02-03    75.11190"
      ]
     },
     "execution_count": 8,
     "metadata": {},
     "output_type": "execute_result"
    }
   ],
   "source": [
    "#fix the starting point of the move index to align weekly time series\n",
    "date = '2016-01-04'\n",
    "move_index = move_index[move_index['Date']>(date)]\n",
    "\n",
    "from datetime import datetime\n",
    "move_index['Date'] = pd.to_datetime(move_index['Date'].astype(str), format='%Y-%m-%d')\n",
    "\n",
    "move_index.set_index('Date', inplace=True)\n",
    "\n",
    "#align our dates to fall on same day as others \n",
    "move_weekly = move_index['MOVE Index'].resample('W-WED', origin='start').mean()\n",
    "\n",
    "move_weekly = move_weekly.reset_index()\n",
    "move_weekly.head()"
   ]
  },
  {
   "cell_type": "markdown",
   "metadata": {},
   "source": [
    "### Clean up the trade volume dataset"
   ]
  },
  {
   "cell_type": "code",
   "execution_count": 9,
   "metadata": {},
   "outputs": [
    {
     "data": {
      "text/html": [
       "<div>\n",
       "<style scoped>\n",
       "    .dataframe tbody tr th:only-of-type {\n",
       "        vertical-align: middle;\n",
       "    }\n",
       "\n",
       "    .dataframe tbody tr th {\n",
       "        vertical-align: top;\n",
       "    }\n",
       "\n",
       "    .dataframe thead th {\n",
       "        text-align: right;\n",
       "    }\n",
       "</style>\n",
       "<table border=\"1\" class=\"dataframe\">\n",
       "  <thead>\n",
       "    <tr style=\"text-align: right;\">\n",
       "      <th></th>\n",
       "      <th>Client</th>\n",
       "      <th>Date</th>\n",
       "      <th>Total Trades</th>\n",
       "      <th>FI Trades</th>\n",
       "      <th>MBS/TBA</th>\n",
       "      <th>MULTI CURRENCY TRADES</th>\n",
       "      <th>Repos</th>\n",
       "      <th>TRI-PARTY TRADES</th>\n",
       "      <th>IFT</th>\n",
       "      <th>MERGEDTRADES</th>\n",
       "      <th>OTHERTRADES</th>\n",
       "      <th>MAXENTITY</th>\n",
       "      <th>Others</th>\n",
       "      <th>TOTALDOWNLOADCOUNTS</th>\n",
       "      <th>Enity Count</th>\n",
       "      <th>TRIPARTYDEALS</th>\n",
       "      <th>MBS/TBA</th>\n",
       "      <th>OTHERS</th>\n",
       "      <th>ENTITY COUNT</th>\n",
       "      <th>MAXENTITYCOUNTMTD</th>\n",
       "    </tr>\n",
       "  </thead>\n",
       "  <tbody>\n",
       "    <tr>\n",
       "      <th>0</th>\n",
       "      <td>ACC</td>\n",
       "      <td>2016-01-06</td>\n",
       "      <td>101</td>\n",
       "      <td>91</td>\n",
       "      <td>10.0</td>\n",
       "      <td>0</td>\n",
       "      <td>0</td>\n",
       "      <td>0</td>\n",
       "      <td>0</td>\n",
       "      <td>0.0</td>\n",
       "      <td>0.0</td>\n",
       "      <td>4.0</td>\n",
       "      <td>0.0</td>\n",
       "      <td>0</td>\n",
       "      <td>4.0</td>\n",
       "      <td>0</td>\n",
       "      <td>0.0</td>\n",
       "      <td>0.0</td>\n",
       "      <td>0.0</td>\n",
       "      <td>0.0</td>\n",
       "    </tr>\n",
       "    <tr>\n",
       "      <th>2379</th>\n",
       "      <td>CNA</td>\n",
       "      <td>2016-01-06</td>\n",
       "      <td>1202</td>\n",
       "      <td>964</td>\n",
       "      <td>0.0</td>\n",
       "      <td>7</td>\n",
       "      <td>0</td>\n",
       "      <td>231</td>\n",
       "      <td>0</td>\n",
       "      <td>0.0</td>\n",
       "      <td>0.0</td>\n",
       "      <td>20.0</td>\n",
       "      <td>0.0</td>\n",
       "      <td>14799</td>\n",
       "      <td>20.0</td>\n",
       "      <td>8</td>\n",
       "      <td>0.0</td>\n",
       "      <td>0.0</td>\n",
       "      <td>0.0</td>\n",
       "      <td>0.0</td>\n",
       "    </tr>\n",
       "    <tr>\n",
       "      <th>245</th>\n",
       "      <td>BMO</td>\n",
       "      <td>2016-01-06</td>\n",
       "      <td>25214</td>\n",
       "      <td>18529</td>\n",
       "      <td>305.0</td>\n",
       "      <td>17</td>\n",
       "      <td>0</td>\n",
       "      <td>6363</td>\n",
       "      <td>0</td>\n",
       "      <td>0.0</td>\n",
       "      <td>0.0</td>\n",
       "      <td>52.0</td>\n",
       "      <td>0.0</td>\n",
       "      <td>1918523</td>\n",
       "      <td>52.0</td>\n",
       "      <td>184</td>\n",
       "      <td>0.0</td>\n",
       "      <td>0.0</td>\n",
       "      <td>0.0</td>\n",
       "      <td>0.0</td>\n",
       "    </tr>\n",
       "    <tr>\n",
       "      <th>240</th>\n",
       "      <td>AMH</td>\n",
       "      <td>2016-01-06</td>\n",
       "      <td>0</td>\n",
       "      <td>0</td>\n",
       "      <td>0.0</td>\n",
       "      <td>0</td>\n",
       "      <td>0</td>\n",
       "      <td>0</td>\n",
       "      <td>0</td>\n",
       "      <td>0.0</td>\n",
       "      <td>0.0</td>\n",
       "      <td>3.0</td>\n",
       "      <td>0.0</td>\n",
       "      <td>0</td>\n",
       "      <td>3.0</td>\n",
       "      <td>0</td>\n",
       "      <td>0.0</td>\n",
       "      <td>0.0</td>\n",
       "      <td>0.0</td>\n",
       "      <td>0.0</td>\n",
       "    </tr>\n",
       "    <tr>\n",
       "      <th>2139</th>\n",
       "      <td>CIT</td>\n",
       "      <td>2016-01-06</td>\n",
       "      <td>23667</td>\n",
       "      <td>2572</td>\n",
       "      <td>867.0</td>\n",
       "      <td>49</td>\n",
       "      <td>0</td>\n",
       "      <td>20104</td>\n",
       "      <td>75</td>\n",
       "      <td>0.0</td>\n",
       "      <td>0.0</td>\n",
       "      <td>8.0</td>\n",
       "      <td>0.0</td>\n",
       "      <td>2915808</td>\n",
       "      <td>8.0</td>\n",
       "      <td>143</td>\n",
       "      <td>0.0</td>\n",
       "      <td>0.0</td>\n",
       "      <td>0.0</td>\n",
       "      <td>0.0</td>\n",
       "    </tr>\n",
       "  </tbody>\n",
       "</table>\n",
       "</div>"
      ],
      "text/plain": [
       "     Client       Date  Total Trades  FI Trades  MBS/TBA  \\\n",
       "0      ACC  2016-01-06           101         91     10.0   \n",
       "2379   CNA  2016-01-06          1202        964      0.0   \n",
       "245    BMO  2016-01-06         25214      18529    305.0   \n",
       "240    AMH  2016-01-06             0          0      0.0   \n",
       "2139   CIT  2016-01-06         23667       2572    867.0   \n",
       "\n",
       "      MULTI CURRENCY TRADES  Repos  TRI-PARTY TRADES  IFT  MERGEDTRADES  \\\n",
       "0                         0      0                 0    0           0.0   \n",
       "2379                      7      0               231    0           0.0   \n",
       "245                      17      0              6363    0           0.0   \n",
       "240                       0      0                 0    0           0.0   \n",
       "2139                     49      0             20104   75           0.0   \n",
       "\n",
       "      OTHERTRADES  MAXENTITY  Others  TOTALDOWNLOADCOUNTS  Enity Count  \\\n",
       "0             0.0        4.0     0.0                    0          4.0   \n",
       "2379          0.0       20.0     0.0                14799         20.0   \n",
       "245           0.0       52.0     0.0              1918523         52.0   \n",
       "240           0.0        3.0     0.0                    0          3.0   \n",
       "2139          0.0        8.0     0.0              2915808          8.0   \n",
       "\n",
       "      TRIPARTYDEALS  MBS/TBA   OTHERS  ENTITY COUNT  MAXENTITYCOUNTMTD  \n",
       "0                 0       0.0     0.0           0.0                0.0  \n",
       "2379              8       0.0     0.0           0.0                0.0  \n",
       "245             184       0.0     0.0           0.0                0.0  \n",
       "240               0       0.0     0.0           0.0                0.0  \n",
       "2139            143       0.0     0.0           0.0                0.0  "
      ]
     },
     "execution_count": 9,
     "metadata": {},
     "output_type": "execute_result"
    }
   ],
   "source": [
    "#Clean up the date format first\n",
    "from datetime import datetime\n",
    "FT_volumes['Date'] = pd.to_datetime(FT_volumes['Date'].astype(str), format='%Y-%m-%d')\n",
    "\n",
    "FT_volumes.rename(columns={'Non Premium': 'FI Trades'}, inplace=True)\n",
    "\n",
    "#convert daily data to weekly for each client\n",
    "weekly_trades = FT_volumes.groupby(\"Client\").resample('W-Wed', \n",
    "                                                        label='right', closed = 'right', on='Date').sum().reset_index().sort_values(by='Date')\n",
    "\n",
    "weekly_trades.head()"
   ]
  },
  {
   "cell_type": "code",
   "execution_count": 10,
   "metadata": {},
   "outputs": [
    {
     "data": {
      "text/plain": [
       "Date\n",
       "2016-01-06     583640\n",
       "2016-01-13    1018882\n",
       "2016-01-20     868001\n",
       "2016-01-27    1006613\n",
       "2016-02-03    1080292\n",
       "Name: FI Trades, dtype: int64"
      ]
     },
     "execution_count": 10,
     "metadata": {},
     "output_type": "execute_result"
    }
   ],
   "source": [
    "#aggregate down the dataframe to just the date and activity\n",
    "fiweekly_trades = weekly_trades.groupby(['Date'])['FI Trades'].agg('sum')\n",
    "\n",
    "fiweekly_trades.head()"
   ]
  },
  {
   "cell_type": "markdown",
   "metadata": {},
   "source": [
    "### Finally, we'll clean up the primary dealer dataset\n"
   ]
  },
  {
   "cell_type": "code",
   "execution_count": 19,
   "metadata": {},
   "outputs": [
    {
     "name": "stdout",
     "output_type": "stream",
     "text": [
      "         Date  > 11yr duration  2-3yr duration  3-6yr duration  \\\n",
      "0  2015-01-07            44433           51914          126481   \n",
      "1  2015-01-14            53779           68112          131245   \n",
      "2  2015-01-21            48109           60206          137981   \n",
      "3  2015-01-28            41320           44604          106120   \n",
      "4  2015-02-04            54670           61332          166651   \n",
      "\n",
      "   6-7yr duration  7-11yr duration  < 2yr duration  \n",
      "0           42401            88188           70987  \n",
      "1           32660           105209           75816  \n",
      "2           27971           109938           83965  \n",
      "3           26450            79307           73456  \n",
      "4           60947           103601          105996  \n"
     ]
    }
   ],
   "source": [
    "#now we standarize and clean up the NY Fed data\n",
    "\n",
    "dealer_volumes_df = dealer_volumes_df.pivot(index=\"As Of Date\",\n",
    "                                            columns=\"Timeseries\", \n",
    "                                            values='Value (millions)') \\\n",
    "       .reset_index().rename_axis(None, axis=1)\n",
    "dealer_volumes_df.rename(columns={'As Of Date': 'Date',\n",
    "                                  'PDTRGSC-L2':'< 2yr duration',\n",
    "                                  'PDTRGSC-G2L3':'2-3yr duration',\n",
    "                                  'PDTRGSC-G3L6':'3-6yr duration',\n",
    "                                  'PDTRGSC-G6L7':'6-7yr duration',\n",
    "                                  'PDTRGSC-G7L11':'7-11yr duration',\n",
    "                                  'PDTRGSC-G11':'> 11yr duration',\n",
    "                                  }, \n",
    "                         inplace=True)\n",
    "\n",
    "print(dealer_volumes_df.head())"
   ]
  },
  {
   "cell_type": "code",
   "execution_count": 20,
   "metadata": {},
   "outputs": [
    {
     "data": {
      "text/plain": [
       "Index(['Date', '> 11yr duration', '2-3yr duration', '3-6yr duration',\n",
       "       '6-7yr duration', '7-11yr duration', '< 2yr duration'],\n",
       "      dtype='object')"
      ]
     },
     "execution_count": 20,
     "metadata": {},
     "output_type": "execute_result"
    }
   ],
   "source": [
    "dealer_volumes_df.columns"
   ]
  },
  {
   "cell_type": "code",
   "execution_count": 21,
   "metadata": {},
   "outputs": [
    {
     "name": "stdout",
     "output_type": "stream",
     "text": [
      "Date                   datetime64[ns]\n",
      "> 11yr duration                 int64\n",
      "2-3yr duration                  int64\n",
      "3-6yr duration                  int64\n",
      "6-7yr duration                  int64\n",
      "7-11yr duration                 int64\n",
      "< 2yr duration                  int64\n",
      "All Treasury Volume             int64\n",
      "dtype: object\n",
      "(0, 8)\n"
     ]
    },
    {
     "data": {
      "text/html": [
       "<div>\n",
       "<style scoped>\n",
       "    .dataframe tbody tr th:only-of-type {\n",
       "        vertical-align: middle;\n",
       "    }\n",
       "\n",
       "    .dataframe tbody tr th {\n",
       "        vertical-align: top;\n",
       "    }\n",
       "\n",
       "    .dataframe thead th {\n",
       "        text-align: right;\n",
       "    }\n",
       "</style>\n",
       "<table border=\"1\" class=\"dataframe\">\n",
       "  <thead>\n",
       "    <tr style=\"text-align: right;\">\n",
       "      <th></th>\n",
       "      <th>Date</th>\n",
       "      <th>&gt; 11yr duration</th>\n",
       "      <th>2-3yr duration</th>\n",
       "      <th>3-6yr duration</th>\n",
       "      <th>6-7yr duration</th>\n",
       "      <th>7-11yr duration</th>\n",
       "      <th>&lt; 2yr duration</th>\n",
       "      <th>All Treasury Volume</th>\n",
       "    </tr>\n",
       "  </thead>\n",
       "  <tbody>\n",
       "    <tr>\n",
       "      <th>0</th>\n",
       "      <td>2015-01-07</td>\n",
       "      <td>44433</td>\n",
       "      <td>51914</td>\n",
       "      <td>126481</td>\n",
       "      <td>42401</td>\n",
       "      <td>88188</td>\n",
       "      <td>70987</td>\n",
       "      <td>424404</td>\n",
       "    </tr>\n",
       "    <tr>\n",
       "      <th>1</th>\n",
       "      <td>2015-01-14</td>\n",
       "      <td>53779</td>\n",
       "      <td>68112</td>\n",
       "      <td>131245</td>\n",
       "      <td>32660</td>\n",
       "      <td>105209</td>\n",
       "      <td>75816</td>\n",
       "      <td>466821</td>\n",
       "    </tr>\n",
       "    <tr>\n",
       "      <th>2</th>\n",
       "      <td>2015-01-21</td>\n",
       "      <td>48109</td>\n",
       "      <td>60206</td>\n",
       "      <td>137981</td>\n",
       "      <td>27971</td>\n",
       "      <td>109938</td>\n",
       "      <td>83965</td>\n",
       "      <td>468170</td>\n",
       "    </tr>\n",
       "    <tr>\n",
       "      <th>3</th>\n",
       "      <td>2015-01-28</td>\n",
       "      <td>41320</td>\n",
       "      <td>44604</td>\n",
       "      <td>106120</td>\n",
       "      <td>26450</td>\n",
       "      <td>79307</td>\n",
       "      <td>73456</td>\n",
       "      <td>371257</td>\n",
       "    </tr>\n",
       "    <tr>\n",
       "      <th>4</th>\n",
       "      <td>2015-02-04</td>\n",
       "      <td>54670</td>\n",
       "      <td>61332</td>\n",
       "      <td>166651</td>\n",
       "      <td>60947</td>\n",
       "      <td>103601</td>\n",
       "      <td>105996</td>\n",
       "      <td>553197</td>\n",
       "    </tr>\n",
       "  </tbody>\n",
       "</table>\n",
       "</div>"
      ],
      "text/plain": [
       "        Date  > 11yr duration  2-3yr duration  3-6yr duration  6-7yr duration  \\\n",
       "0 2015-01-07            44433           51914          126481           42401   \n",
       "1 2015-01-14            53779           68112          131245           32660   \n",
       "2 2015-01-21            48109           60206          137981           27971   \n",
       "3 2015-01-28            41320           44604          106120           26450   \n",
       "4 2015-02-04            54670           61332          166651           60947   \n",
       "\n",
       "   7-11yr duration  < 2yr duration  All Treasury Volume  \n",
       "0            88188           70987               424404  \n",
       "1           105209           75816               466821  \n",
       "2           109938           83965               468170  \n",
       "3            79307           73456               371257  \n",
       "4           103601          105996               553197  "
      ]
     },
     "execution_count": 21,
     "metadata": {},
     "output_type": "execute_result"
    }
   ],
   "source": [
    "\n",
    "columnTitles = dealer_volumes_df.columns\n",
    "\n",
    "dealer_volumes_df = dealer_volumes_df.reindex(columns=columnTitles)\n",
    "# dealer_volumes_df = dealer_volumes_df[columnsTitles[1:]].apply(pd.to_numeric, errors='coerce')\n",
    "\n",
    "dealer_volumes_df['Date']= pd.to_datetime(dealer_volumes_df['Date'])\n",
    "dealer_volumes_df[['< 2yr duration','2-3yr duration',\n",
    "                 '3-6yr duration','6-7yr duration',\n",
    "                 '7-11yr duration','> 11yr duration']].astype(np.float64)\n",
    "\n",
    "dealer_volumes_df[\"All Treasury Volume\"] = dealer_volumes_df[columnTitles[1:]].sum(axis=1) \n",
    "# dealer_volumes_df['> 11yr series'] = pd.to_numeric(dealer_volumes_df['> 11yr series'])\n",
    "print(dealer_volumes_df.dtypes)\n",
    "print(dealer_volumes_df[dealer_volumes_df['All Treasury Volume'].isnull()].shape)\n",
    "dealer_volumes_df.head(5)"
   ]
  },
  {
   "cell_type": "code",
   "execution_count": 23,
   "metadata": {},
   "outputs": [],
   "source": [
    "#Let's combine our cleaned-up dataframes\n",
    "df_wkly = pd.merge_asof(fiweekly_trades,dealer_volumes_df[['Date','< 2yr duration','2-3yr duration',\n",
    "                 '3-6yr duration','6-7yr duration',\n",
    "                 '7-11yr duration','> 11yr duration','All Treasury Volume']].sort_values('Date'),on='Date')\n",
    "# #the move index has only 2yrs worth of data, keeping a separate dataset in df_moves\n",
    "df_all = pd.merge_asof(df_wkly, move_weekly[['Date','MOVE Index']].sort_values('Date'), on= 'Date')"
   ]
  },
  {
   "cell_type": "code",
   "execution_count": 6,
   "metadata": {},
   "outputs": [],
   "source": [
    "# df_all.tail()"
   ]
  },
  {
   "cell_type": "code",
   "execution_count": 26,
   "metadata": {},
   "outputs": [],
   "source": [
    "#save our dataset\n",
    "pickle.dump(df_all, open( \"df_datasets.p\", \"wb\" ) )"
   ]
  },
  {
   "cell_type": "code",
   "execution_count": 3,
   "metadata": {},
   "outputs": [
    {
     "data": {
      "text/html": [
       "<div>\n",
       "<style scoped>\n",
       "    .dataframe tbody tr th:only-of-type {\n",
       "        vertical-align: middle;\n",
       "    }\n",
       "\n",
       "    .dataframe tbody tr th {\n",
       "        vertical-align: top;\n",
       "    }\n",
       "\n",
       "    .dataframe thead th {\n",
       "        text-align: right;\n",
       "    }\n",
       "</style>\n",
       "<table border=\"1\" class=\"dataframe\">\n",
       "  <thead>\n",
       "    <tr style=\"text-align: right;\">\n",
       "      <th></th>\n",
       "      <th>Date</th>\n",
       "      <th>FI Trades</th>\n",
       "      <th>&lt; 2yr duration</th>\n",
       "      <th>2-3yr duration</th>\n",
       "      <th>3-6yr duration</th>\n",
       "      <th>6-7yr duration</th>\n",
       "      <th>7-11yr duration</th>\n",
       "      <th>&gt; 11yr duration</th>\n",
       "      <th>All Treasury Volume</th>\n",
       "      <th>MOVE Index</th>\n",
       "    </tr>\n",
       "  </thead>\n",
       "  <tbody>\n",
       "    <tr>\n",
       "      <th>0</th>\n",
       "      <td>2016-01-06</td>\n",
       "      <td>583640</td>\n",
       "      <td>111380</td>\n",
       "      <td>50098</td>\n",
       "      <td>118190</td>\n",
       "      <td>35862</td>\n",
       "      <td>66566</td>\n",
       "      <td>28720</td>\n",
       "      <td>410816</td>\n",
       "      <td>71.55325</td>\n",
       "    </tr>\n",
       "    <tr>\n",
       "      <th>1</th>\n",
       "      <td>2016-01-13</td>\n",
       "      <td>1018882</td>\n",
       "      <td>102177</td>\n",
       "      <td>66881</td>\n",
       "      <td>125401</td>\n",
       "      <td>33314</td>\n",
       "      <td>110069</td>\n",
       "      <td>44324</td>\n",
       "      <td>482166</td>\n",
       "      <td>72.53234</td>\n",
       "    </tr>\n",
       "    <tr>\n",
       "      <th>2</th>\n",
       "      <td>2016-01-20</td>\n",
       "      <td>868001</td>\n",
       "      <td>84879</td>\n",
       "      <td>58885</td>\n",
       "      <td>132007</td>\n",
       "      <td>30365</td>\n",
       "      <td>99224</td>\n",
       "      <td>45083</td>\n",
       "      <td>450443</td>\n",
       "      <td>77.77548</td>\n",
       "    </tr>\n",
       "    <tr>\n",
       "      <th>3</th>\n",
       "      <td>2016-01-27</td>\n",
       "      <td>1006613</td>\n",
       "      <td>94864</td>\n",
       "      <td>52351</td>\n",
       "      <td>123178</td>\n",
       "      <td>28893</td>\n",
       "      <td>82431</td>\n",
       "      <td>32130</td>\n",
       "      <td>413847</td>\n",
       "      <td>76.11602</td>\n",
       "    </tr>\n",
       "    <tr>\n",
       "      <th>4</th>\n",
       "      <td>2016-02-03</td>\n",
       "      <td>1080292</td>\n",
       "      <td>102335</td>\n",
       "      <td>50371</td>\n",
       "      <td>155290</td>\n",
       "      <td>50161</td>\n",
       "      <td>94520</td>\n",
       "      <td>38999</td>\n",
       "      <td>491676</td>\n",
       "      <td>75.11190</td>\n",
       "    </tr>\n",
       "  </tbody>\n",
       "</table>\n",
       "</div>"
      ],
      "text/plain": [
       "        Date  FI Trades  < 2yr duration  2-3yr duration  3-6yr duration  \\\n",
       "0 2016-01-06     583640          111380           50098          118190   \n",
       "1 2016-01-13    1018882          102177           66881          125401   \n",
       "2 2016-01-20     868001           84879           58885          132007   \n",
       "3 2016-01-27    1006613           94864           52351          123178   \n",
       "4 2016-02-03    1080292          102335           50371          155290   \n",
       "\n",
       "   6-7yr duration  7-11yr duration  > 11yr duration  All Treasury Volume  \\\n",
       "0           35862            66566            28720               410816   \n",
       "1           33314           110069            44324               482166   \n",
       "2           30365            99224            45083               450443   \n",
       "3           28893            82431            32130               413847   \n",
       "4           50161            94520            38999               491676   \n",
       "\n",
       "   MOVE Index  \n",
       "0    71.55325  \n",
       "1    72.53234  \n",
       "2    77.77548  \n",
       "3    76.11602  \n",
       "4    75.11190  "
      ]
     },
     "execution_count": 3,
     "metadata": {},
     "output_type": "execute_result"
    }
   ],
   "source": [
    "#reload the dataframe\n",
    "\n",
    "data = pickle.load( open( \"df_datasets.p\", \"rb\" ) )\n",
    "data.head()"
   ]
  },
  {
   "cell_type": "code",
   "execution_count": 4,
   "metadata": {},
   "outputs": [
    {
     "data": {
      "text/html": [
       "<div>\n",
       "<style scoped>\n",
       "    .dataframe tbody tr th:only-of-type {\n",
       "        vertical-align: middle;\n",
       "    }\n",
       "\n",
       "    .dataframe tbody tr th {\n",
       "        vertical-align: top;\n",
       "    }\n",
       "\n",
       "    .dataframe thead th {\n",
       "        text-align: right;\n",
       "    }\n",
       "</style>\n",
       "<table border=\"1\" class=\"dataframe\">\n",
       "  <thead>\n",
       "    <tr style=\"text-align: right;\">\n",
       "      <th></th>\n",
       "      <th>FI Trades</th>\n",
       "      <th>&lt; 2yr duration</th>\n",
       "      <th>2-3yr duration</th>\n",
       "      <th>3-6yr duration</th>\n",
       "      <th>6-7yr duration</th>\n",
       "      <th>7-11yr duration</th>\n",
       "      <th>&gt; 11yr duration</th>\n",
       "      <th>All Treasury Volume</th>\n",
       "      <th>MOVE Index</th>\n",
       "    </tr>\n",
       "    <tr>\n",
       "      <th>Date</th>\n",
       "      <th></th>\n",
       "      <th></th>\n",
       "      <th></th>\n",
       "      <th></th>\n",
       "      <th></th>\n",
       "      <th></th>\n",
       "      <th></th>\n",
       "      <th></th>\n",
       "      <th></th>\n",
       "    </tr>\n",
       "  </thead>\n",
       "  <tbody>\n",
       "    <tr>\n",
       "      <th>2016-01-06</th>\n",
       "      <td>583640.0</td>\n",
       "      <td>111380.0</td>\n",
       "      <td>50098.0</td>\n",
       "      <td>118190.0</td>\n",
       "      <td>35862.0</td>\n",
       "      <td>66566.0</td>\n",
       "      <td>28720.0</td>\n",
       "      <td>410816.0</td>\n",
       "      <td>71.55325</td>\n",
       "    </tr>\n",
       "    <tr>\n",
       "      <th>2016-01-13</th>\n",
       "      <td>1018882.0</td>\n",
       "      <td>102177.0</td>\n",
       "      <td>66881.0</td>\n",
       "      <td>125401.0</td>\n",
       "      <td>33314.0</td>\n",
       "      <td>110069.0</td>\n",
       "      <td>44324.0</td>\n",
       "      <td>482166.0</td>\n",
       "      <td>72.53234</td>\n",
       "    </tr>\n",
       "    <tr>\n",
       "      <th>2016-01-20</th>\n",
       "      <td>868001.0</td>\n",
       "      <td>84879.0</td>\n",
       "      <td>58885.0</td>\n",
       "      <td>132007.0</td>\n",
       "      <td>30365.0</td>\n",
       "      <td>99224.0</td>\n",
       "      <td>45083.0</td>\n",
       "      <td>450443.0</td>\n",
       "      <td>77.77548</td>\n",
       "    </tr>\n",
       "    <tr>\n",
       "      <th>2016-01-27</th>\n",
       "      <td>1006613.0</td>\n",
       "      <td>94864.0</td>\n",
       "      <td>52351.0</td>\n",
       "      <td>123178.0</td>\n",
       "      <td>28893.0</td>\n",
       "      <td>82431.0</td>\n",
       "      <td>32130.0</td>\n",
       "      <td>413847.0</td>\n",
       "      <td>76.11602</td>\n",
       "    </tr>\n",
       "    <tr>\n",
       "      <th>2016-02-03</th>\n",
       "      <td>1080292.0</td>\n",
       "      <td>102335.0</td>\n",
       "      <td>50371.0</td>\n",
       "      <td>155290.0</td>\n",
       "      <td>50161.0</td>\n",
       "      <td>94520.0</td>\n",
       "      <td>38999.0</td>\n",
       "      <td>491676.0</td>\n",
       "      <td>75.11190</td>\n",
       "    </tr>\n",
       "  </tbody>\n",
       "</table>\n",
       "</div>"
      ],
      "text/plain": [
       "            FI Trades  < 2yr duration  2-3yr duration  3-6yr duration  \\\n",
       "Date                                                                    \n",
       "2016-01-06   583640.0        111380.0         50098.0        118190.0   \n",
       "2016-01-13  1018882.0        102177.0         66881.0        125401.0   \n",
       "2016-01-20   868001.0         84879.0         58885.0        132007.0   \n",
       "2016-01-27  1006613.0         94864.0         52351.0        123178.0   \n",
       "2016-02-03  1080292.0        102335.0         50371.0        155290.0   \n",
       "\n",
       "            6-7yr duration  7-11yr duration  > 11yr duration  \\\n",
       "Date                                                           \n",
       "2016-01-06         35862.0          66566.0          28720.0   \n",
       "2016-01-13         33314.0         110069.0          44324.0   \n",
       "2016-01-20         30365.0          99224.0          45083.0   \n",
       "2016-01-27         28893.0          82431.0          32130.0   \n",
       "2016-02-03         50161.0          94520.0          38999.0   \n",
       "\n",
       "            All Treasury Volume  MOVE Index  \n",
       "Date                                         \n",
       "2016-01-06             410816.0    71.55325  \n",
       "2016-01-13             482166.0    72.53234  \n",
       "2016-01-20             450443.0    77.77548  \n",
       "2016-01-27             413847.0    76.11602  \n",
       "2016-02-03             491676.0    75.11190  "
      ]
     },
     "execution_count": 4,
     "metadata": {},
     "output_type": "execute_result"
    }
   ],
   "source": [
    "data = data.set_index('Date')\n",
    "data = data.astype(np.float64)\n",
    "data.head()"
   ]
  },
  {
   "cell_type": "code",
   "execution_count": 5,
   "metadata": {},
   "outputs": [
    {
     "name": "stdout",
     "output_type": "stream",
     "text": [
      "FI Trades              0\n",
      "< 2yr duration         0\n",
      "2-3yr duration         0\n",
      "3-6yr duration         0\n",
      "6-7yr duration         0\n",
      "7-11yr duration        0\n",
      "> 11yr duration        0\n",
      "All Treasury Volume    0\n",
      "MOVE Index             0\n",
      "dtype: int64\n",
      "(240, 9)\n"
     ]
    }
   ],
   "source": [
    "# to interpolate the missing values, we'll take the average between nearest values of the NaN\n",
    "data = data.interpolate(method ='linear', limit_direction ='forward')\n",
    "\n",
    "print(data.isnull().sum())\n",
    "print(data.shape)\n"
   ]
  },
  {
   "cell_type": "code",
   "execution_count": 6,
   "metadata": {},
   "outputs": [
    {
     "name": "stdout",
     "output_type": "stream",
     "text": [
      "<class 'pandas.core.frame.DataFrame'>\n",
      "DatetimeIndex: 240 entries, 2016-01-06 to 2020-08-05\n",
      "Data columns (total 9 columns):\n",
      " #   Column               Non-Null Count  Dtype  \n",
      "---  ------               --------------  -----  \n",
      " 0   FI Trades            240 non-null    float64\n",
      " 1   < 2yr duration       240 non-null    float64\n",
      " 2   2-3yr duration       240 non-null    float64\n",
      " 3   3-6yr duration       240 non-null    float64\n",
      " 4   6-7yr duration       240 non-null    float64\n",
      " 5   7-11yr duration      240 non-null    float64\n",
      " 6   > 11yr duration      240 non-null    float64\n",
      " 7   All Treasury Volume  240 non-null    float64\n",
      " 8   MOVE Index           240 non-null    float64\n",
      "dtypes: float64(9)\n",
      "memory usage: 18.8 KB\n"
     ]
    }
   ],
   "source": [
    "data.info()"
   ]
  },
  {
   "cell_type": "code",
   "execution_count": 7,
   "metadata": {},
   "outputs": [
    {
     "data": {
      "text/html": [
       "<div>\n",
       "<style scoped>\n",
       "    .dataframe tbody tr th:only-of-type {\n",
       "        vertical-align: middle;\n",
       "    }\n",
       "\n",
       "    .dataframe tbody tr th {\n",
       "        vertical-align: top;\n",
       "    }\n",
       "\n",
       "    .dataframe thead th {\n",
       "        text-align: right;\n",
       "    }\n",
       "</style>\n",
       "<table border=\"1\" class=\"dataframe\">\n",
       "  <thead>\n",
       "    <tr style=\"text-align: right;\">\n",
       "      <th></th>\n",
       "      <th>FI Trades</th>\n",
       "      <th>&lt; 2yr duration</th>\n",
       "      <th>2-3yr duration</th>\n",
       "      <th>3-6yr duration</th>\n",
       "      <th>6-7yr duration</th>\n",
       "      <th>7-11yr duration</th>\n",
       "      <th>&gt; 11yr duration</th>\n",
       "      <th>All Treasury Volume</th>\n",
       "      <th>MOVE Index</th>\n",
       "    </tr>\n",
       "  </thead>\n",
       "  <tbody>\n",
       "    <tr>\n",
       "      <th>count</th>\n",
       "      <td>2.400000e+02</td>\n",
       "      <td>240.000000</td>\n",
       "      <td>240.000000</td>\n",
       "      <td>240.000000</td>\n",
       "      <td>240.000000</td>\n",
       "      <td>240.000000</td>\n",
       "      <td>240.000000</td>\n",
       "      <td>240.000000</td>\n",
       "      <td>240.000000</td>\n",
       "    </tr>\n",
       "    <tr>\n",
       "      <th>mean</th>\n",
       "      <td>1.121874e+06</td>\n",
       "      <td>83967.533333</td>\n",
       "      <td>51867.058333</td>\n",
       "      <td>120591.308333</td>\n",
       "      <td>33608.275000</td>\n",
       "      <td>84969.766667</td>\n",
       "      <td>44534.275000</td>\n",
       "      <td>419538.216667</td>\n",
       "      <td>62.357185</td>\n",
       "    </tr>\n",
       "    <tr>\n",
       "      <th>std</th>\n",
       "      <td>2.511437e+05</td>\n",
       "      <td>21777.962180</td>\n",
       "      <td>15501.331099</td>\n",
       "      <td>25969.692440</td>\n",
       "      <td>12805.729371</td>\n",
       "      <td>21511.819334</td>\n",
       "      <td>14572.473425</td>\n",
       "      <td>84744.290981</td>\n",
       "      <td>13.430115</td>\n",
       "    </tr>\n",
       "    <tr>\n",
       "      <th>min</th>\n",
       "      <td>2.278700e+05</td>\n",
       "      <td>27905.000000</td>\n",
       "      <td>19154.000000</td>\n",
       "      <td>62883.000000</td>\n",
       "      <td>12883.000000</td>\n",
       "      <td>28913.000000</td>\n",
       "      <td>13697.000000</td>\n",
       "      <td>215319.000000</td>\n",
       "      <td>44.489960</td>\n",
       "    </tr>\n",
       "    <tr>\n",
       "      <th>25%</th>\n",
       "      <td>9.776462e+05</td>\n",
       "      <td>68442.750000</td>\n",
       "      <td>42204.500000</td>\n",
       "      <td>101031.000000</td>\n",
       "      <td>24052.250000</td>\n",
       "      <td>72257.500000</td>\n",
       "      <td>34625.000000</td>\n",
       "      <td>367106.750000</td>\n",
       "      <td>52.376685</td>\n",
       "    </tr>\n",
       "    <tr>\n",
       "      <th>50%</th>\n",
       "      <td>1.078632e+06</td>\n",
       "      <td>80999.500000</td>\n",
       "      <td>47659.500000</td>\n",
       "      <td>117926.000000</td>\n",
       "      <td>29260.000000</td>\n",
       "      <td>81765.500000</td>\n",
       "      <td>42250.500000</td>\n",
       "      <td>408403.000000</td>\n",
       "      <td>60.021010</td>\n",
       "    </tr>\n",
       "    <tr>\n",
       "      <th>75%</th>\n",
       "      <td>1.256252e+06</td>\n",
       "      <td>97347.750000</td>\n",
       "      <td>61508.000000</td>\n",
       "      <td>134917.250000</td>\n",
       "      <td>40808.750000</td>\n",
       "      <td>94995.500000</td>\n",
       "      <td>49534.000000</td>\n",
       "      <td>451619.250000</td>\n",
       "      <td>69.655465</td>\n",
       "    </tr>\n",
       "    <tr>\n",
       "      <th>max</th>\n",
       "      <td>2.141071e+06</td>\n",
       "      <td>171685.000000</td>\n",
       "      <td>110475.000000</td>\n",
       "      <td>249938.000000</td>\n",
       "      <td>90630.000000</td>\n",
       "      <td>178007.000000</td>\n",
       "      <td>111803.000000</td>\n",
       "      <td>875601.000000</td>\n",
       "      <td>129.908000</td>\n",
       "    </tr>\n",
       "  </tbody>\n",
       "</table>\n",
       "</div>"
      ],
      "text/plain": [
       "          FI Trades  < 2yr duration  2-3yr duration  3-6yr duration  \\\n",
       "count  2.400000e+02      240.000000      240.000000      240.000000   \n",
       "mean   1.121874e+06    83967.533333    51867.058333   120591.308333   \n",
       "std    2.511437e+05    21777.962180    15501.331099    25969.692440   \n",
       "min    2.278700e+05    27905.000000    19154.000000    62883.000000   \n",
       "25%    9.776462e+05    68442.750000    42204.500000   101031.000000   \n",
       "50%    1.078632e+06    80999.500000    47659.500000   117926.000000   \n",
       "75%    1.256252e+06    97347.750000    61508.000000   134917.250000   \n",
       "max    2.141071e+06   171685.000000   110475.000000   249938.000000   \n",
       "\n",
       "       6-7yr duration  7-11yr duration  > 11yr duration  All Treasury Volume  \\\n",
       "count      240.000000       240.000000       240.000000           240.000000   \n",
       "mean     33608.275000     84969.766667     44534.275000        419538.216667   \n",
       "std      12805.729371     21511.819334     14572.473425         84744.290981   \n",
       "min      12883.000000     28913.000000     13697.000000        215319.000000   \n",
       "25%      24052.250000     72257.500000     34625.000000        367106.750000   \n",
       "50%      29260.000000     81765.500000     42250.500000        408403.000000   \n",
       "75%      40808.750000     94995.500000     49534.000000        451619.250000   \n",
       "max      90630.000000    178007.000000    111803.000000        875601.000000   \n",
       "\n",
       "       MOVE Index  \n",
       "count  240.000000  \n",
       "mean    62.357185  \n",
       "std     13.430115  \n",
       "min     44.489960  \n",
       "25%     52.376685  \n",
       "50%     60.021010  \n",
       "75%     69.655465  \n",
       "max    129.908000  "
      ]
     },
     "execution_count": 7,
     "metadata": {},
     "output_type": "execute_result"
    }
   ],
   "source": [
    "data.describe()"
   ]
  },
  {
   "cell_type": "code",
   "execution_count": 73,
   "metadata": {},
   "outputs": [
    {
     "name": "stderr",
     "output_type": "stream",
     "text": [
      "findfont: Font family ['sans-serif'] not found. Falling back to DejaVu Sans.\n"
     ]
    },
    {
     "data": {
      "image/png": "[encoded data removed]",
      "text/plain": [
       "<Figure size 720x432 with 2 Axes>"
      ]
     },
     "metadata": {},
     "output_type": "display_data"
    }
   ],
   "source": [
    "from matplotlib.patches import Rectangle\n",
    "\n",
    "#Before beginning our analysis, let's first pick our the best predictors but mindful of multicollinearity\n",
    "features = data[data.columns[1:]]\n",
    "\n",
    "#calc correlation matrix\n",
    "corr_mat = data.corr(method ='pearson')\n",
    "\n",
    "#plot matrix\n",
    "figure = plt.figure(figsize=(10,6))\n",
    "ax = sns.heatmap(data=corr_mat, annot=True)\n",
    "plt.title('Trade Volume Treasury Correlations \\n', fontsize = 18)\n",
    "\n",
    "#adding 2 heatmap cells accessed using their cell location (2,3) to change the cell color or add the border\n",
    "ax.add_patch(Rectangle((6,0), 1, 1, edgecolor='blue', fill=False, lw=3))\n",
    "ax.add_patch(Rectangle((0,6), 1, 1, edgecolor='blue', fill=False, lw=3))\n",
    "\n",
    "plt.savefig(\"corr_matrix.png\", dpi = 65);"
   ]
  },
  {
   "cell_type": "code",
   "execution_count": 62,
   "metadata": {},
   "outputs": [
    {
     "data": {
      "text/html": [
       "<div>\n",
       "<style scoped>\n",
       "    .dataframe tbody tr th:only-of-type {\n",
       "        vertical-align: middle;\n",
       "    }\n",
       "\n",
       "    .dataframe tbody tr th {\n",
       "        vertical-align: top;\n",
       "    }\n",
       "\n",
       "    .dataframe thead th {\n",
       "        text-align: right;\n",
       "    }\n",
       "</style>\n",
       "<table border=\"1\" class=\"dataframe\">\n",
       "  <thead>\n",
       "    <tr style=\"text-align: right;\">\n",
       "      <th></th>\n",
       "      <th>&gt; 11yr duration</th>\n",
       "      <th>All Treasury Volume</th>\n",
       "    </tr>\n",
       "    <tr>\n",
       "      <th>Date</th>\n",
       "      <th></th>\n",
       "      <th></th>\n",
       "    </tr>\n",
       "  </thead>\n",
       "  <tbody>\n",
       "    <tr>\n",
       "      <th>2016-01-06</th>\n",
       "      <td>3.285501</td>\n",
       "      <td>3.084304</td>\n",
       "    </tr>\n",
       "    <tr>\n",
       "      <th>2016-01-13</th>\n",
       "      <td>3.306572</td>\n",
       "      <td>3.086832</td>\n",
       "    </tr>\n",
       "    <tr>\n",
       "      <th>2016-01-20</th>\n",
       "      <td>3.307344</td>\n",
       "      <td>3.085774</td>\n",
       "    </tr>\n",
       "    <tr>\n",
       "      <th>2016-01-27</th>\n",
       "      <td>3.291205</td>\n",
       "      <td>3.084423</td>\n",
       "    </tr>\n",
       "    <tr>\n",
       "      <th>2016-02-03</th>\n",
       "      <td>3.300629</td>\n",
       "      <td>3.087132</td>\n",
       "    </tr>\n",
       "  </tbody>\n",
       "</table>\n",
       "</div>"
      ],
      "text/plain": [
       "            > 11yr duration  All Treasury Volume\n",
       "Date                                            \n",
       "2016-01-06         3.285501             3.084304\n",
       "2016-01-13         3.306572             3.086832\n",
       "2016-01-20         3.307344             3.085774\n",
       "2016-01-27         3.291205             3.084423\n",
       "2016-02-03         3.300629             3.087132"
      ]
     },
     "execution_count": 62,
     "metadata": {},
     "output_type": "execute_result"
    }
   ],
   "source": [
    "#let's just view longest duration, and total volume which incorporates shorter-term maturities\n",
    "\n",
    "features = data[['> 11yr duration','All Treasury Volume']]\n",
    "features.head()"
   ]
  },
  {
   "cell_type": "code",
   "execution_count": 63,
   "metadata": {},
   "outputs": [
    {
     "data": {
      "text/plain": [
       "((168, 2), (72, 2), (168,), (72,))"
      ]
     },
     "execution_count": 63,
     "metadata": {},
     "output_type": "execute_result"
    }
   ],
   "source": [
    "# let's separate into training and testing set\n",
    "# using the sklearn function below\n",
    "# features = data[data.columns[1:]]\n",
    "X_train, X_test, y_train, y_test = train_test_split(\n",
    "    features,\n",
    "    data['FI Trades'],\n",
    "    test_size=0.3,\n",
    "    random_state=0)\n",
    "\n",
    "X_train.shape, X_test.shape, y_train.shape, y_test.shape"
   ]
  },
  {
   "cell_type": "code",
   "execution_count": 64,
   "metadata": {},
   "outputs": [
    {
     "data": {
      "text/plain": [
       "StandardScaler(copy=True, with_mean=True, with_std=True)"
      ]
     },
     "execution_count": 64,
     "metadata": {},
     "output_type": "execute_result"
    }
   ],
   "source": [
    "scaler = StandardScaler()\n",
    "scaler.fit(X_train)"
   ]
  },
  {
   "cell_type": "code",
   "execution_count": 65,
   "metadata": {},
   "outputs": [
    {
     "name": "stdout",
     "output_type": "stream",
     "text": [
      "Train set\n",
      "Linear Regression mse: 143734.0765905837\n",
      "Test set\n",
      "Linear Regression mse: 243708.65515224662\n",
      "\n"
     ]
    }
   ],
   "source": [
    "# instantiate a lineear model\n",
    "linreg = LinearRegression()\n",
    "\n",
    "# train the model\n",
    "linreg.fit(scaler.transform(X_train), y_train)\n",
    "\n",
    "# make predictions on the train set and calculate\n",
    "# the mean squared error\n",
    "print('Train set')\n",
    "pred = linreg.predict(scaler.transform(X_train))\n",
    "print('Linear Regression mse: {}'.format(mean_squared_error(y_train, pred)))\n",
    "\n",
    "# make predictions on the test set and calculate\n",
    "# the mean squared error\n",
    "print('Test set')\n",
    "pred = linreg.predict(scaler.transform(X_test))\n",
    "print('Linear Regression mse: {}'.format(mean_squared_error(y_test, pred)))\n",
    "print()"
   ]
  },
  {
   "cell_type": "code",
   "execution_count": 43,
   "metadata": {},
   "outputs": [],
   "source": [
    "# calculate the residuals\n",
    "\n",
    "error = y_test - pred"
   ]
  },
  {
   "cell_type": "code",
   "execution_count": 1,
   "metadata": {},
   "outputs": [
    {
     "name": "stdout",
     "output_type": "stream",
     "text": [
      "0.11.1\n"
     ]
    }
   ],
   "source": [
    "import seaborn as sns\n",
    "print (sns.__version__)"
   ]
  },
  {
   "cell_type": "code",
   "execution_count": 75,
   "metadata": {},
   "outputs": [
    {
     "data": {
      "image/png": "[encoded data removed]",
      "text/plain": [
       "<Figure size 576x396 with 1 Axes>"
      ]
     },
     "metadata": {},
     "output_type": "display_data"
    }
   ],
   "source": [
    "# we will make a histogram to determine if the residuals\n",
    "# are normally distributed with mean value at 0\n",
    "\n",
    "sns.histplot(error, bins=15)\n",
    "\n",
    "plt.savefig(\"fi_histplot.png\", dpi = 65);"
   ]
  },
  {
   "cell_type": "markdown",
   "metadata": {},
   "source": [
    "We see that the residuals show a fairly normal distribution centered at 0. Not perfect, by visual inspection there is some skew towards the right, with a few higher unusual values towards the left of the distribution."
   ]
  },
  {
   "cell_type": "code",
   "execution_count": 76,
   "metadata": {},
   "outputs": [
    {
     "data": {
      "image/png": "[encoded data removed]",
      "text/plain": [
       "<Figure size 576x396 with 1 Axes>"
      ]
     },
     "metadata": {},
     "output_type": "display_data"
    }
   ],
   "source": [
    "# we can better visualize residuals distribution with \n",
    "# a Q-Q plot. If the residuals are normally distributed\n",
    "# the dots should adjust to the 45 degree line\n",
    "\n",
    "stats.probplot(error, dist=\"norm\", plot=plt)\n",
    "plt.savefig(\"prob_plot.png\", dpi = 65);\n",
    "plt.show();"
   ]
  },
  {
   "cell_type": "markdown",
   "metadata": {},
   "source": [
    "From the Q-Q plot we see more easily how the residuals deviate from the tails of the distribution, thus, they are not normally distributed."
   ]
  },
  {
   "cell_type": "code",
   "execution_count": 46,
   "metadata": {},
   "outputs": [
    {
     "data": {
      "image/png": "[encoded data removed]",
      "text/plain": [
       "<Figure size 576x396 with 1 Axes>"
      ]
     },
     "metadata": {},
     "output_type": "display_data"
    }
   ],
   "source": [
    "# plot the residuals vs one of the independent variables\n",
    "\n",
    "plt.scatter(x=X_test['All Treasury Volume'], y=error)\n",
    "plt.xlabel('All Treasury Volume')\n",
    "plt.ylabel('Residuals');"
   ]
  },
  {
   "cell_type": "code",
   "execution_count": 48,
   "metadata": {},
   "outputs": [
    {
     "data": {
      "image/png": "[encoded data removed]",
      "text/plain": [
       "<Figure size 576x396 with 1 Axes>"
      ]
     },
     "metadata": {},
     "output_type": "display_data"
    }
   ],
   "source": [
    "# plot the residuals vs one of the independent variables\n",
    "\n",
    "plt.scatter(x=X_test['> 11yr duration'], y=error)\n",
    "plt.xlabel('> 11yr duration')\n",
    "plt.ylabel('Residuals');"
   ]
  },
  {
   "cell_type": "code",
   "execution_count": 83,
   "metadata": {},
   "outputs": [
    {
     "data": {
      "image/png": "[encoded data removed]",
      "text/plain": [
       "<Figure size 576x396 with 2 Axes>"
      ]
     },
     "metadata": {},
     "output_type": "display_data"
    }
   ],
   "source": [
    "# yellowbricks allows you to visualise the residuals of the\n",
    "# models after fitting a linear regression\n",
    "\n",
    "from yellowbrick.regressor import ResidualsPlot\n",
    "\n",
    "linreg = LinearRegression()\n",
    "linreg.fit(scaler.transform(X_train), y_train)\n",
    "visualizer = ResidualsPlot(linreg)\n",
    "\n",
    "visualizer.fit(scaler.transform(X_train), y_train)  # Fit the training data to the model\n",
    "visualizer.score(scaler.transform(X_test), y_test)  # Evaluate the model on the test data\n",
    "\n",
    "ax.figure.tight_layout()\n",
    "#this fixes the labels from getting cut off\n",
    "plt.subplots_adjust(top=0.75)\n",
    "plt.savefig(\"residual_multiplot.png\", dpi = 65);\n",
    "visualizer.poof();"
   ]
  },
  {
   "cell_type": "markdown",
   "metadata": {},
   "source": [
    "On the right, we have the distribution of the residuals in the train and test sets. We see that it is not perfectly centered at 0.\n",
    "\n",
    "On the left, we have the residuals vs the predicted value, we also see that the variance is not constant. Towards the extremes of the predictions, the model is under-estimating the outcome (most residuals are negative). And towards the center of the predictions, the model is over-estimating the outcome. So the residuals variance is not constant for all values."
   ]
  },
  {
   "cell_type": "markdown",
   "metadata": {},
   "source": [
    "### Transform the data to improve model fit\n",
    " - We will use the Box-Cox transformation"
   ]
  },
  {
   "cell_type": "code",
   "execution_count": 50,
   "metadata": {},
   "outputs": [
    {
     "data": {
      "text/plain": [
       "((168, 2), (72, 2), (168,), (72,))"
      ]
     },
     "execution_count": 50,
     "metadata": {},
     "output_type": "execute_result"
    }
   ],
   "source": [
    "import scipy.stats as stats\n",
    "\n",
    "\n",
    "# apply the box-cox transformation to the variables\n",
    "data['> 11yr duration'], _ = stats.boxcox(data['> 11yr duration'])\n",
    "data['All Treasury Volume'], _ = stats.boxcox(data['All Treasury Volume'])\n",
    "data['FI Trades'], _ = stats.boxcox(data['FI Trades'])\n",
    "\n",
    "# let's separate into training and testing set\n",
    "X_train, X_test, y_train, y_test = train_test_split(\n",
    "    data[['> 11yr duration','All Treasury Volume']],\n",
    "    data['FI Trades'],\n",
    "    test_size=0.3,\n",
    "    random_state=0)\n",
    "\n",
    "X_train.shape, X_test.shape, y_train.shape, y_test.shape"
   ]
  },
  {
   "cell_type": "code",
   "execution_count": 51,
   "metadata": {},
   "outputs": [
    {
     "data": {
      "text/plain": [
       "StandardScaler(copy=True, with_mean=True, with_std=True)"
      ]
     },
     "execution_count": 51,
     "metadata": {},
     "output_type": "execute_result"
    }
   ],
   "source": [
    "# let's scale the features\n",
    "\n",
    "scaler = StandardScaler()\n",
    "scaler.fit(X_train)"
   ]
  },
  {
   "cell_type": "code",
   "execution_count": 52,
   "metadata": {},
   "outputs": [
    {
     "name": "stdout",
     "output_type": "stream",
     "text": [
      "Train set\n",
      "Linear Regression mse: 143734.0765905837\n",
      "Test set\n",
      "Linear Regression mse: 243708.65515224662\n",
      "\n"
     ]
    }
   ],
   "source": [
    "# model build a new model using the transformed variables\n",
    "\n",
    "# specify the model\n",
    "linreg = LinearRegression()\n",
    "\n",
    "# fit the model\n",
    "linreg.fit(scaler.transform(X_train), y_train)\n",
    "\n",
    "# make predictions and calculate the mean squared\n",
    "# error over the train set\n",
    "print('Train set')\n",
    "pred = linreg.predict(scaler.transform(X_train))\n",
    "print('Linear Regression mse: {}'.format(mean_squared_error(y_train, pred)))\n",
    "\n",
    "# make predictions and calculate the mean squared\n",
    "# error over the test set\n",
    "print('Test set')\n",
    "pred = linreg.predict(scaler.transform(X_test))\n",
    "print('Linear Regression mse: {}'.format(mean_squared_error(y_test, pred)))\n",
    "print()"
   ]
  },
  {
   "cell_type": "code",
   "execution_count": 53,
   "metadata": {},
   "outputs": [],
   "source": [
    " # calculate the residuals\n",
    "\n",
    "error = y_test - pred"
   ]
  },
  {
   "cell_type": "code",
   "execution_count": 54,
   "metadata": {},
   "outputs": [
    {
     "data": {
      "image/png": "[encoded data removed]",
      "text/plain": [
       "<Figure size 576x396 with 1 Axes>"
      ]
     },
     "metadata": {},
     "output_type": "display_data"
    }
   ],
   "source": [
    "# we will make a histogram to determine if the residuals\n",
    "# are normally distributed with mean value at 0\n",
    "\n",
    "sns.histplot(error, bins=15);"
   ]
  },
  {
   "cell_type": "code",
   "execution_count": 55,
   "metadata": {},
   "outputs": [
    {
     "data": {
      "image/png": "[encoded data removed]",
      "text/plain": [
       "<Figure size 576x396 with 1 Axes>"
      ]
     },
     "metadata": {},
     "output_type": "display_data"
    }
   ],
   "source": [
    "# we can better visualize residuasl distribution with \n",
    "# a Q-Q plot. If the residuals are normally distributed\n",
    "# the dots should adjust to the 45 degree line\n",
    "\n",
    "stats.probplot(error, dist=\"norm\", plot=plt)\n",
    "plt.show()"
   ]
  },
  {
   "cell_type": "code",
   "execution_count": 56,
   "metadata": {},
   "outputs": [
    {
     "data": {
      "image/png": "[encoded data removed]",
      "text/plain": [
       "<Figure size 576x396 with 2 Axes>"
      ]
     },
     "metadata": {},
     "output_type": "display_data"
    },
    {
     "data": {
      "text/plain": [
       "<AxesSubplot:title={'center':'Residuals for LinearRegression Model'}, xlabel='Predicted Value', ylabel='Residuals'>"
      ]
     },
     "execution_count": 56,
     "metadata": {},
     "output_type": "execute_result"
    }
   ],
   "source": [
    "# let's now do the analysis with yellowbrick\n",
    "\n",
    "from yellowbrick.regressor import ResidualsPlot\n",
    "\n",
    "linreg = LinearRegression()\n",
    "linreg.fit(scaler.transform(X_train), y_train)\n",
    "visualizer = ResidualsPlot(linreg)\n",
    "\n",
    "visualizer.fit(scaler.transform(X_train), y_train)  # Fit the training data to the model\n",
    "visualizer.score(scaler.transform(X_test), y_test)  # Evaluate the model on the test data\n",
    "visualizer.poof()"
   ]
  },
  {
   "cell_type": "markdown",
   "metadata": {},
   "source": [
    "In this case we didn't witness much of an improvement.  We need to keep digging for other\n",
    "predicting variables to build a stronger model."
   ]
  },
  {
   "cell_type": "code",
   "execution_count": null,
   "metadata": {},
   "outputs": [],
   "source": []
  }
 ],
 "metadata": {
  "kernelspec": {
   "display_name": "Python",
   "language": "python",
   "name": "conda-env-python-py"
  },
  "language_info": {
   "codemirror_mode": {
    "name": "ipython",
    "version": 3
   },
   "file_extension": ".py",
   "mimetype": "text/x-python",
   "name": "python",
   "nbconvert_exporter": "python",
   "pygments_lexer": "ipython3",
   "version": "3.6.12"
  }
 },
 "nbformat": 4,
 "nbformat_minor": 4
}
