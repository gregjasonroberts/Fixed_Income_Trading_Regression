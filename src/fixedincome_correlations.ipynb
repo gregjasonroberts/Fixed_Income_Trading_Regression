{
 "cells": [
  {
   "cell_type": "markdown",
   "metadata": {},
   "source": [
    "**Building a dataset to analyze the correlation between GTO Fixed Income trading\n",
    "with that of US Treasuries and the volatility index (MOVE Index)**"
   ]
  },
  {
   "cell_type": "markdown",
   "metadata": {},
   "source": [
    " <a id=\"0\"></a>\n",
    "# Table of Contents\n",
    "\n",
    "[Skip to 5yr Monthly Data](#1)<br>\n",
    "\n",
    "[Skip to 2yr Daily Data](#2)<br>\n",
    "\n",
    "[Skip to 5yr Weekly Data](#3)<br>\n",
    "\n",
    "    \n",
    " "
   ]
  },
  {
   "cell_type": "code",
   "execution_count": 1,
   "metadata": {},
   "outputs": [
    {
     "name": "stdout",
     "output_type": "stream",
     "text": [
      "Collecting XlsxWriter\n",
      "\u001b[?25l  Downloading https://files.pythonhosted.org/packages/2b/98/17875723b6814fc4d0fc03f0997ee00de2dbd78cf195e2ec3f2c9c789d40/XlsxWriter-1.3.3-py2.py3-none-any.whl (144kB)\n",
      "\u001b[K     |████████████████████████████████| 153kB 11.6MB/s eta 0:00:01\n",
      "\u001b[?25hInstalling collected packages: XlsxWriter\n",
      "Successfully installed XlsxWriter-1.3.3\n",
      "Collecting openpyxl\n",
      "\u001b[?25l  Downloading https://files.pythonhosted.org/packages/f9/d8/be9dc2b17ba47f1db9032ed7e19915145b4c093f66bb36f0d919d2dc8ccf/openpyxl-3.0.4-py2.py3-none-any.whl (241kB)\n",
      "\u001b[K     |████████████████████████████████| 245kB 17.9MB/s eta 0:00:01\n",
      "\u001b[?25hCollecting jdcal (from openpyxl)\n",
      "  Downloading https://files.pythonhosted.org/packages/f0/da/572cbc0bc582390480bbd7c4e93d14dc46079778ed915b505dc494b37c57/jdcal-1.4.1-py2.py3-none-any.whl\n",
      "Collecting et-xmlfile (from openpyxl)\n",
      "  Downloading https://files.pythonhosted.org/packages/22/28/a99c42aea746e18382ad9fb36f64c1c1f04216f41797f2f0fa567da11388/et_xmlfile-1.0.1.tar.gz\n",
      "Building wheels for collected packages: et-xmlfile\n",
      "  Building wheel for et-xmlfile (setup.py) ... \u001b[?25ldone\n",
      "\u001b[?25h  Stored in directory: /home/jupyterlab/.cache/pip/wheels/2a/77/35/0da0965a057698121fc7d8c5a7a9955cdbfb3cc4e2423cad39\n",
      "Successfully built et-xmlfile\n",
      "Installing collected packages: jdcal, et-xmlfile, openpyxl\n",
      "Successfully installed et-xmlfile-1.0.1 jdcal-1.4.1 openpyxl-3.0.4\n"
     ]
    }
   ],
   "source": [
    "import pandas as pd\n",
    "import numpy as np\n",
    "import datetime as dt \n",
    "from sklearn.linear_model import LinearRegression\n",
    "pd.options.mode.chained_assignment = None\n",
    "pd.set_option('display.max_rows', None)\n",
    "\n",
    "!pip install XlsxWriter\n",
    "!pip install openpyxl\n",
    "import openpyxl"
   ]
  },
  {
   "cell_type": "code",
   "execution_count": 2,
   "metadata": {},
   "outputs": [],
   "source": [
    "move_index = \"MOVE Index Data.xlsx\"\n",
    "move_df = pd.read_excel(move_index, sheet_name=\"5yr Monthly\", header=1,skiprows=5)\n",
    "monthly_trades = \"Monthly_trade_counts_2015_2020.csv\"\n",
    "fi_df = pd.read_csv(monthly_trades)\n",
    "treasuries_data = \"monthly-us-treasury-trading-volume-sifma.xls\"\n",
    "treasuries_df = pd.read_excel(treasuries_data, sheet_name='Monthly', skiprows=4, header=1)"
   ]
  },
  {
   "cell_type": "markdown",
   "metadata": {},
   "source": [
    " <a id=\"1\"></a>\n",
    " \n",
    " **Cleaning up the Monthly data**"
   ]
  },
  {
   "cell_type": "code",
   "execution_count": 3,
   "metadata": {},
   "outputs": [
    {
     "data": {
      "text/plain": [
       "(2241, 2)"
      ]
     },
     "execution_count": 3,
     "metadata": {},
     "output_type": "execute_result"
    }
   ],
   "source": [
    "\n",
    "\n",
    "total_trades = fi_df[['Date','Non Premium']]\n",
    "total_trades['Non Premium'] = pd.to_numeric(total_trades['Non Premium'], errors='coerce')\n",
    "total_trades.groupby(['Date'])['Non Premium'].agg('sum')\n",
    "\n",
    "total_trades.shape"
   ]
  },
  {
   "cell_type": "code",
   "execution_count": 4,
   "metadata": {},
   "outputs": [
    {
     "data": {
      "text/plain": [
       "(0, 2)"
      ]
     },
     "execution_count": 4,
     "metadata": {},
     "output_type": "execute_result"
    }
   ],
   "source": [
    "total_trades[\"Date\"] = pd.to_datetime(total_trades[\"Date\"], format = '%Y%m').dt.to_period('m')\n",
    "total_trades = total_trades.dropna()\n",
    "total_trades = total_trades.reset_index(drop=True)\n",
    "total_trades[total_trades.Date.isnull()].shape"
   ]
  },
  {
   "cell_type": "code",
   "execution_count": 33,
   "metadata": {},
   "outputs": [
    {
     "data": {
      "text/plain": [
       "Date           period[M]\n",
       "Non Premium      float64\n",
       "dtype: object"
      ]
     },
     "execution_count": 33,
     "metadata": {},
     "output_type": "execute_result"
    }
   ],
   "source": [
    "total_trades.dtypes"
   ]
  },
  {
   "cell_type": "code",
   "execution_count": 5,
   "metadata": {},
   "outputs": [
    {
     "data": {
      "text/plain": [
       "(59,)"
      ]
     },
     "execution_count": 5,
     "metadata": {},
     "output_type": "execute_result"
    }
   ],
   "source": [
    "#let's group our trades by month\n",
    "total_trades.rename(columns={'Non Premium': 'FI Trades'}, inplace=True)\n",
    "fimonthly_trades = total_trades.groupby(['Date'])['FI Trades'].agg('sum')\n",
    "fimonthly_trades.shape"
   ]
  },
  {
   "cell_type": "markdown",
   "metadata": {},
   "source": [
    "**MOVE INDEX**\n",
    "\n",
    "### -  needs to be cleaned up as well ###"
   ]
  },
  {
   "cell_type": "code",
   "execution_count": 6,
   "metadata": {},
   "outputs": [
    {
     "data": {
      "text/plain": [
       "Date       object\n",
       "Last Px    object\n",
       "dtype: object"
      ]
     },
     "execution_count": 6,
     "metadata": {},
     "output_type": "execute_result"
    }
   ],
   "source": [
    "move_df.dropna(inplace=True)\n",
    "move_df.reset_index(drop=True, inplace=True)\n",
    "\n",
    "move_df.dtypes"
   ]
  },
  {
   "cell_type": "code",
   "execution_count": 7,
   "metadata": {},
   "outputs": [],
   "source": [
    "move_index= move_df[['Date','Last Px']]\n",
    "move_index.rename(columns={'Last Px': 'MOVE Index'}, inplace=True)\n",
    "move_index['MOVE Index'] = pd.to_numeric(move_index['MOVE Index'], errors='coerce')\n",
    "\n",
    "\n",
    "move_index['Date'] = pd.to_datetime(move_index['Date'], errors='coerce')\n",
    "move_index[\"Date\"] = pd.to_datetime(move_index[\"Date\"], format = '%Y%m').dt.to_period('m')"
   ]
  },
  {
   "cell_type": "code",
   "execution_count": 8,
   "metadata": {},
   "outputs": [
    {
     "data": {
      "text/html": [
       "<div>\n",
       "<style scoped>\n",
       "    .dataframe tbody tr th:only-of-type {\n",
       "        vertical-align: middle;\n",
       "    }\n",
       "\n",
       "    .dataframe tbody tr th {\n",
       "        vertical-align: top;\n",
       "    }\n",
       "\n",
       "    .dataframe thead th {\n",
       "        text-align: right;\n",
       "    }\n",
       "</style>\n",
       "<table border=\"1\" class=\"dataframe\">\n",
       "  <thead>\n",
       "    <tr style=\"text-align: right;\">\n",
       "      <th></th>\n",
       "      <th>Date</th>\n",
       "      <th>MOVE Index</th>\n",
       "    </tr>\n",
       "  </thead>\n",
       "  <tbody>\n",
       "    <tr>\n",
       "      <th>0</th>\n",
       "      <td>2020-07</td>\n",
       "      <td>40.66</td>\n",
       "    </tr>\n",
       "    <tr>\n",
       "      <th>1</th>\n",
       "      <td>2020-06</td>\n",
       "      <td>54.13</td>\n",
       "    </tr>\n",
       "    <tr>\n",
       "      <th>2</th>\n",
       "      <td>2020-05</td>\n",
       "      <td>51.55</td>\n",
       "    </tr>\n",
       "    <tr>\n",
       "      <th>3</th>\n",
       "      <td>2020-04</td>\n",
       "      <td>53.59</td>\n",
       "    </tr>\n",
       "    <tr>\n",
       "      <th>4</th>\n",
       "      <td>NaT</td>\n",
       "      <td>NaN</td>\n",
       "    </tr>\n",
       "    <tr>\n",
       "      <th>5</th>\n",
       "      <td>2020-03</td>\n",
       "      <td>83.87</td>\n",
       "    </tr>\n",
       "  </tbody>\n",
       "</table>\n",
       "</div>"
      ],
      "text/plain": [
       "      Date  MOVE Index\n",
       "0  2020-07       40.66\n",
       "1  2020-06       54.13\n",
       "2  2020-05       51.55\n",
       "3  2020-04       53.59\n",
       "4      NaT         NaN\n",
       "5  2020-03       83.87"
      ]
     },
     "execution_count": 8,
     "metadata": {},
     "output_type": "execute_result"
    }
   ],
   "source": [
    "move_index.head(6)"
   ]
  },
  {
   "cell_type": "code",
   "execution_count": 9,
   "metadata": {},
   "outputs": [
    {
     "data": {
      "text/plain": [
       "(76, 2)"
      ]
     },
     "execution_count": 9,
     "metadata": {},
     "output_type": "execute_result"
    }
   ],
   "source": [
    "#Drop those NaT values\n",
    "#move_index.dropna(how='all', axis=0, inplace=True)\n",
    "move_index = move_index.dropna()\n",
    "move_index = move_index.reset_index(drop=True)\n",
    "\n",
    "move_index.shape"
   ]
  },
  {
   "cell_type": "markdown",
   "metadata": {},
   "source": [
    "**Now let's focus on the final dateset, the monthly treasury volume produced by SIFMA**"
   ]
  },
  {
   "cell_type": "code",
   "execution_count": 10,
   "metadata": {},
   "outputs": [
    {
     "data": {
      "text/html": [
       "<div>\n",
       "<style scoped>\n",
       "    .dataframe tbody tr th:only-of-type {\n",
       "        vertical-align: middle;\n",
       "    }\n",
       "\n",
       "    .dataframe tbody tr th {\n",
       "        vertical-align: top;\n",
       "    }\n",
       "\n",
       "    .dataframe thead th {\n",
       "        text-align: right;\n",
       "    }\n",
       "</style>\n",
       "<table border=\"1\" class=\"dataframe\">\n",
       "  <thead>\n",
       "    <tr style=\"text-align: right;\">\n",
       "      <th></th>\n",
       "      <th>Date</th>\n",
       "      <th>TBills</th>\n",
       "      <th>TIPS</th>\n",
       "      <th>&lt;2yr Cpn</th>\n",
       "      <th>3-6yr Cpn</th>\n",
       "      <th>6-7yr Cpn</th>\n",
       "      <th>&gt;11 Cpn</th>\n",
       "      <th>All Coupons</th>\n",
       "    </tr>\n",
       "  </thead>\n",
       "  <tbody>\n",
       "    <tr>\n",
       "      <th>6</th>\n",
       "      <td>2001-07-31 00:00:00</td>\n",
       "      <td>27.83925</td>\n",
       "      <td>2.50425</td>\n",
       "      <td>98.6154</td>\n",
       "      <td>67.5606</td>\n",
       "      <td>52.621</td>\n",
       "      <td>16.2258</td>\n",
       "      <td>265.366200</td>\n",
       "    </tr>\n",
       "    <tr>\n",
       "      <th>7</th>\n",
       "      <td>2001-08-31 00:00:00</td>\n",
       "      <td>33.33560</td>\n",
       "      <td>1.52600</td>\n",
       "      <td>88.1595</td>\n",
       "      <td>67.8796</td>\n",
       "      <td>64.0333</td>\n",
       "      <td>17.162</td>\n",
       "      <td>272.095960</td>\n",
       "    </tr>\n",
       "    <tr>\n",
       "      <th>8</th>\n",
       "      <td>2001-09-30 00:00:00</td>\n",
       "      <td>31.99575</td>\n",
       "      <td>1.72050</td>\n",
       "      <td>96.5377</td>\n",
       "      <td>77.5787</td>\n",
       "      <td>62.1603</td>\n",
       "      <td>17.8669</td>\n",
       "      <td>287.859900</td>\n",
       "    </tr>\n",
       "    <tr>\n",
       "      <th>9</th>\n",
       "      <td>2001-10-31 00:00:00</td>\n",
       "      <td>28.71780</td>\n",
       "      <td>2.54340</td>\n",
       "      <td>106.201</td>\n",
       "      <td>83.6831</td>\n",
       "      <td>60.0154</td>\n",
       "      <td>24.3447</td>\n",
       "      <td>305.504880</td>\n",
       "    </tr>\n",
       "    <tr>\n",
       "      <th>10</th>\n",
       "      <td>2001-11-30 00:00:00</td>\n",
       "      <td>41.97025</td>\n",
       "      <td>2.33025</td>\n",
       "      <td>133.409</td>\n",
       "      <td>110.822</td>\n",
       "      <td>79.3551</td>\n",
       "      <td>30.07</td>\n",
       "      <td>397.956113</td>\n",
       "    </tr>\n",
       "  </tbody>\n",
       "</table>\n",
       "</div>"
      ],
      "text/plain": [
       "                   Date    TBills     TIPS <2yr Cpn 3-6yr Cpn 6-7yr Cpn  \\\n",
       "6   2001-07-31 00:00:00  27.83925  2.50425  98.6154   67.5606    52.621   \n",
       "7   2001-08-31 00:00:00  33.33560  1.52600  88.1595   67.8796   64.0333   \n",
       "8   2001-09-30 00:00:00  31.99575  1.72050  96.5377   77.5787   62.1603   \n",
       "9   2001-10-31 00:00:00  28.71780  2.54340  106.201   83.6831   60.0154   \n",
       "10  2001-11-30 00:00:00  41.97025  2.33025  133.409   110.822   79.3551   \n",
       "\n",
       "    >11 Cpn  All Coupons  \n",
       "6   16.2258   265.366200  \n",
       "7    17.162   272.095960  \n",
       "8   17.8669   287.859900  \n",
       "9   24.3447   305.504880  \n",
       "10    30.07   397.956113  "
      ]
     },
     "execution_count": 10,
     "metadata": {},
     "output_type": "execute_result"
    }
   ],
   "source": [
    "treasuries_df.head(25)\n",
    "\n",
    "#the first six rows are garbage with limited data, need to remove them\n",
    "t_volume = treasuries_df.iloc[6:]\n",
    "\n",
    "t_volume.columns\n",
    "\n",
    "t_volume.rename(columns={'Treasury Bills': 'TBills', 'Treasury Inflation Index Securities':'TIPS',\n",
    "                         'Coupon Securities Due in 2 Years or Less': '<2yr Cpn',\n",
    "                         'Coupon Securities Due in More Than 3 Years but Less Than or Equal to 6 Years':'3-6yr Cpn',\n",
    "                        'Coupon Securities Due in More Than 6 Years but Less Than or Equal to 7 Years':'6-7yr Cpn',\n",
    "                        'Coupon Securities Due in More Than 11 Years': '>11 Cpn',\n",
    "                        'Total2':'All Coupons'}, inplace=True)\n",
    "\n",
    "tvol_df = t_volume[['Date','TBills','TIPS','<2yr Cpn','3-6yr Cpn','6-7yr Cpn','>11 Cpn','All Coupons']]\n",
    "tvol_df.head()"
   ]
  },
  {
   "cell_type": "code",
   "execution_count": 11,
   "metadata": {},
   "outputs": [],
   "source": [
    "tvol_df['Date'] = pd.to_datetime(tvol_df['Date'], errors='coerce')\n",
    "tvol_df[\"Date\"] = pd.to_datetime(tvol_df[\"Date\"], format = '%Y%m').dt.to_period('m')"
   ]
  },
  {
   "cell_type": "code",
   "execution_count": 12,
   "metadata": {},
   "outputs": [
    {
     "data": {
      "text/plain": [
       "(0, 8)"
      ]
     },
     "execution_count": 12,
     "metadata": {},
     "output_type": "execute_result"
    }
   ],
   "source": [
    "\n",
    "tvol_df= tvol_df.dropna()\n",
    "tvol_df = tvol_df.reset_index(drop=True)\n",
    "tvol_df[tvol_df.Date.isnull()].shape"
   ]
  },
  {
   "cell_type": "code",
   "execution_count": 42,
   "metadata": {},
   "outputs": [],
   "source": [
    "# things to go at this point:\n",
    "#1. clean up the column names, particularly remove what has limited data\n",
    "#2. also, need to clean up te data column to match the other dataframes"
   ]
  },
  {
   "cell_type": "markdown",
   "metadata": {},
   "source": [
    "**Finally, let's combine all the dataframes into one big index**"
   ]
  },
  {
   "cell_type": "code",
   "execution_count": 13,
   "metadata": {},
   "outputs": [],
   "source": [
    "df1 = pd.merge_asof(fimonthly_trades,move_index[['Date', 'MOVE Index']].sort_values('Date'),on='Date')"
   ]
  },
  {
   "cell_type": "code",
   "execution_count": 14,
   "metadata": {},
   "outputs": [
    {
     "data": {
      "text/html": [
       "<div>\n",
       "<style scoped>\n",
       "    .dataframe tbody tr th:only-of-type {\n",
       "        vertical-align: middle;\n",
       "    }\n",
       "\n",
       "    .dataframe tbody tr th {\n",
       "        vertical-align: top;\n",
       "    }\n",
       "\n",
       "    .dataframe thead th {\n",
       "        text-align: right;\n",
       "    }\n",
       "</style>\n",
       "<table border=\"1\" class=\"dataframe\">\n",
       "  <thead>\n",
       "    <tr style=\"text-align: right;\">\n",
       "      <th></th>\n",
       "      <th>Date</th>\n",
       "      <th>FI Trades</th>\n",
       "      <th>MOVE Index</th>\n",
       "    </tr>\n",
       "  </thead>\n",
       "  <tbody>\n",
       "    <tr>\n",
       "      <th>0</th>\n",
       "      <td>2015-08</td>\n",
       "      <td>1689.0</td>\n",
       "      <td>87.7352</td>\n",
       "    </tr>\n",
       "    <tr>\n",
       "      <th>1</th>\n",
       "      <td>2015-09</td>\n",
       "      <td>1374.0</td>\n",
       "      <td>81.5650</td>\n",
       "    </tr>\n",
       "    <tr>\n",
       "      <th>2</th>\n",
       "      <td>2015-10</td>\n",
       "      <td>661.0</td>\n",
       "      <td>73.0792</td>\n",
       "    </tr>\n",
       "    <tr>\n",
       "      <th>3</th>\n",
       "      <td>2015-11</td>\n",
       "      <td>1350.0</td>\n",
       "      <td>69.8952</td>\n",
       "    </tr>\n",
       "    <tr>\n",
       "      <th>4</th>\n",
       "      <td>2015-12</td>\n",
       "      <td>1021.0</td>\n",
       "      <td>67.8473</td>\n",
       "    </tr>\n",
       "  </tbody>\n",
       "</table>\n",
       "</div>"
      ],
      "text/plain": [
       "      Date  FI Trades  MOVE Index\n",
       "0  2015-08     1689.0     87.7352\n",
       "1  2015-09     1374.0     81.5650\n",
       "2  2015-10      661.0     73.0792\n",
       "3  2015-11     1350.0     69.8952\n",
       "4  2015-12     1021.0     67.8473"
      ]
     },
     "execution_count": 14,
     "metadata": {},
     "output_type": "execute_result"
    }
   ],
   "source": [
    "df1.head()"
   ]
  },
  {
   "cell_type": "code",
   "execution_count": 15,
   "metadata": {},
   "outputs": [],
   "source": [
    "df2 = pd.merge_asof(df1, tvol_df[['Date','TBills','TIPS',\n",
    "                                  '<2yr Cpn','3-6yr Cpn',\n",
    "                                  '6-7yr Cpn','>11 Cpn',\n",
    "                                  'All Coupons']].sort_values('Date'),on='Date')"
   ]
  },
  {
   "cell_type": "code",
   "execution_count": 16,
   "metadata": {},
   "outputs": [
    {
     "data": {
      "text/plain": [
       "(59, 10)"
      ]
     },
     "execution_count": 16,
     "metadata": {},
     "output_type": "execute_result"
    }
   ],
   "source": [
    "df2.shape"
   ]
  },
  {
   "cell_type": "markdown",
   "metadata": {},
   "source": [
    "**Run our correlations**"
   ]
  },
  {
   "cell_type": "code",
   "execution_count": 17,
   "metadata": {},
   "outputs": [],
   "source": [
    "import matplotlib.pyplot as plt\n",
    "plt.style.use('seaborn-whitegrid') # Set the aesthetic style of the plots"
   ]
  },
  {
   "cell_type": "code",
   "execution_count": 48,
   "metadata": {},
   "outputs": [
    {
     "data": {
      "text/plain": [
       "Text(0, 0.5, 'MOVE Index Values')"
      ]
     },
     "execution_count": 48,
     "metadata": {},
     "output_type": "execute_result"
    },
    {
     "data": {
      "image/png": "[encoded data removed]",
      "text/plain": [
       "<Figure size 720x288 with 1 Axes>"
      ]
     },
     "metadata": {},
     "output_type": "display_data"
    }
   ],
   "source": [
    "fig, ax = plt.subplots(figsize = (10,4))\n",
    "x = df2['FI Trades']\n",
    "y = df2['MOVE Index']\n",
    "plt.scatter(x,y)\n",
    "plt.title('5yr Monthly Fixed Income Trade History vs MOVE Index')\n",
    "plt.xlabel('Fixed Income Total Trades')\n",
    "plt.ylabel('MOVE Index Values')"
   ]
  },
  {
   "cell_type": "code",
   "execution_count": 18,
   "metadata": {},
   "outputs": [
    {
     "data": {
      "text/plain": [
       "0.061155308474118764"
      ]
     },
     "execution_count": 18,
     "metadata": {},
     "output_type": "execute_result"
    }
   ],
   "source": [
    "import numpy as np\n",
    "Y = df2['FI Trades'].values.reshape(-1, 1)  # values converts it into a numpy array\n",
    "X = df2['MOVE Index'].values.reshape(-1, 1)  # values converts it into a numpy array\n",
    "linear_regressor = LinearRegression()  # create object for the class\n",
    "linear_regressor.fit(X, Y)  # perform linear regression\n",
    "Y_pred = linear_regressor.predict(X)  # make predictions\n",
    "\n",
    "from sklearn.metrics import r2_score\n",
    "\n",
    "r2_score(Y, Y_pred)"
   ]
  },
  {
   "cell_type": "code",
   "execution_count": 22,
   "metadata": {},
   "outputs": [
    {
     "data": {
      "image/png": "[encoded data removed]",
      "text/plain": [
       "<Figure size 432x288 with 1 Axes>"
      ]
     },
     "metadata": {},
     "output_type": "display_data"
    }
   ],
   "source": [
    "'''regplot  in the seaborn library  to  determine if the feature \n",
    "MOVE Index is negatively or positively correlated with NAFI Fixed Income volumes.'''\n",
    "from sklearn.metrics import r2_score\n",
    "import seaborn as sns\n",
    "fig = plt.figure()\n",
    "#fig.suptitle('bold figure suptitle', fontsize=14, fontweight='bold')\n",
    "\n",
    "ax = fig.add_subplot(111)\n",
    "fig.subplots_adjust(top=0.85)\n",
    "\n",
    "ax.text(75,2500, 'r2: {}'.format(r2_score(Y, Y_pred), fontsize=15))\n",
    "\n",
    "sns.regplot(x=\"MOVE Index\",y=\"FI Trades\", data=df2)\n",
    "#plt.plot(X, Y_pred, color='red')\n",
    "plt.title('5yr Monthly NAFI Trade Volumes vs MOVE Index')\n",
    "\n",
    "plt.xlabel('MOVE Index Values')\n",
    "plt.ylabel('NAFI Total Trades')\n",
    "plt.ylim(0,)\n",
    "\n",
    "plt.savefig(\"regplot.png\", dpi = 75)\n",
    "\n",
    "wb = openpyxl.load_workbook('FI Correlation Analysis.xlsx')\n",
    "ws = wb.active\n",
    "\n",
    "img = openpyxl.drawing.image.Image('regplot.png')\n",
    "img.anchor = 'M8'\n",
    "\n",
    "ws.add_image(img)\n",
    "wb.save('FI Correlation Analysis.xlsx')\n"
   ]
  },
  {
   "cell_type": "markdown",
   "metadata": {},
   "source": [
    "**Build multiple scater plots in the same figure**"
   ]
  },
  {
   "cell_type": "code",
   "execution_count": 19,
   "metadata": {},
   "outputs": [],
   "source": [
    "%matplotlib inline\n",
    "import matplotlib.pyplot as plt\n",
    "plt.style.use('seaborn-white')"
   ]
  },
  {
   "cell_type": "code",
   "execution_count": 20,
   "metadata": {},
   "outputs": [
    {
     "data": {
      "text/plain": [
       "MOVE Index    -0.247296\n",
       "TBills         0.184784\n",
       "TIPS           0.040158\n",
       "All Coupons    0.033658\n",
       "Name: FI Trades, dtype: float64"
      ]
     },
     "execution_count": 20,
     "metadata": {},
     "output_type": "execute_result"
    }
   ],
   "source": [
    "df2[df2.columns[1:]].corr()['FI Trades'][1:]"
   ]
  },
  {
   "cell_type": "code",
   "execution_count": 23,
   "metadata": {},
   "outputs": [
    {
     "data": {
      "image/png": "[encoded data removed]",
      "text/plain": [
       "<Figure size 720x180 with 4 Axes>"
      ]
     },
     "metadata": {},
     "output_type": "display_data"
    }
   ],
   "source": [
    "pp = sns.pairplot(data=df2,kind=\"reg\",\n",
    "                 y_vars=['FI Trades'],\n",
    "                 x_vars=['MOVE Index','TBills','TIPS','All Coupons'])\n",
    "\n",
    "plt.savefig(\"pairplots.png\", dpi = 75)\n",
    "\n",
    "# wb = openpyxl.load_workbook('FI Trade Analysis.xlsx')\n",
    "# ws = wb.active\n",
    "\n",
    "# img = openpyxl.drawing.image.Image('myplot.png')\n",
    "# img.anchor = 'M8'\n",
    "\n",
    "# ws.add_image(img)\n",
    "# wb.save('FI Trade Analysis.xlsx')\n",
    "\n",
    "plt.show()"
   ]
  },
  {
   "cell_type": "code",
   "execution_count": 54,
   "metadata": {},
   "outputs": [
    {
     "name": "stdout",
     "output_type": "stream",
     "text": [
      "NAFI Trading Correlations\n"
     ]
    }
   ],
   "source": [
    "#remove the column selection in the end you'll \n",
    "#get a correlation matrix of all other columns \n",
    "#you are analysing. The last [:-1] is to remove \n",
    "#correlation of 'special_col' with itself.\n",
    "# Create a Pandas Excel writer using XlsxWriter as the engine.\n",
    "writer = pd.ExcelWriter('FI Correlation Analysis.xlsx', engine='xlsxwriter')\n",
    "print(\"NAFI Trading Correlations\")\n",
    "nafi_corr = df2[df2.columns[1:]].corr()['FI Trades'][1:]\n",
    "nafi_corr\n",
    "# # Convert the dataframe to an XlsxWriter Excel object.\n",
    "nafi_corr.to_excel(writer, sheet_name='5yrMonthly', startrow=2, startcol=13)\n",
    "\n",
    "writer.save()"
   ]
  },
  {
   "cell_type": "markdown",
   "metadata": {},
   "source": [
    "## Building a regression and calculate r2"
   ]
  },
  {
   "cell_type": "code",
   "execution_count": 55,
   "metadata": {},
   "outputs": [
    {
     "data": {
      "text/plain": [
       "0.061155308474118764"
      ]
     },
     "execution_count": 55,
     "metadata": {},
     "output_type": "execute_result"
    }
   ],
   "source": [
    "import numpy as np\n",
    "Y = df2['FI Trades'].values.reshape(-1, 1)  # values converts it into a numpy array\n",
    "X = df2['MOVE Index'].values.reshape(-1, 1)  # values converts it into a numpy array\n",
    "linear_regressor = LinearRegression()  # create object for the class\n",
    "linear_regressor.fit(X, Y)  # perform linear regression\n",
    "Y_pred = linear_regressor.predict(X)  # make predictions\n",
    "\n",
    "from sklearn.metrics import r2_score\n",
    "\n",
    "r2_score(Y, Y_pred)"
   ]
  },
  {
   "cell_type": "code",
   "execution_count": 56,
   "metadata": {},
   "outputs": [
    {
     "data": {
      "image/png": "[encoded data removed]",
      "text/plain": [
       "<Figure size 432x288 with 1 Axes>"
      ]
     },
     "metadata": {},
     "output_type": "display_data"
    }
   ],
   "source": [
    "fig = plt.figure()\n",
    "#fig.suptitle('bold figure suptitle', fontsize=14, fontweight='bold')\n",
    "\n",
    "ax = fig.add_subplot(111)\n",
    "fig.subplots_adjust(top=0.85)\n",
    "\n",
    "\n",
    "ax.text(75,2500, 'r2: {}'.format(r2_score(Y, Y_pred), fontsize=15))\n",
    "plt.scatter(X, Y)\n",
    "plt.plot(X, Y_pred, color='red')\n",
    "plt.title('5yr Monthly NAFI Trade Volumes vs MOVE Index')\n",
    "\n",
    "plt.xlabel('MOVE Index Values')\n",
    "plt.ylabel('NAFI Total Trades')\n",
    "\n",
    "\n",
    "#save image to excel\n",
    "plt.savefig(\"myplot.png\", dpi = 75)\n",
    "\n",
    "wb = openpyxl.load_workbook('FI Trade Analysis.xlsx')\n",
    "ws = wb.active\n",
    "\n",
    "img = openpyxl.drawing.image.Image('myplot.png')\n",
    "img.anchor = 'M8'\n",
    "\n",
    "ws.add_image(img)\n",
    "wb.save('FI Trade Analysis.xlsx')\n",
    "\n",
    "plt.show()"
   ]
  },
  {
   "cell_type": "code",
   "execution_count": 57,
   "metadata": {},
   "outputs": [
    {
     "data": {
      "text/plain": [
       "0.061155308474118764"
      ]
     },
     "execution_count": 57,
     "metadata": {},
     "output_type": "execute_result"
    }
   ],
   "source": [
    "X2 = df2[['MOVE Index']]\n",
    "Y2 = df2['FI Trades']\n",
    "lm = LinearRegression()\n",
    "\n",
    "lm.fit(X2,Y2)\n",
    "lm.predict(X2)\n",
    "lm.score(X2,Y2)"
   ]
  },
  {
   "cell_type": "markdown",
   "metadata": {},
   "source": [
    "**Publish to data and chart to excel**"
   ]
  },
  {
   "cell_type": "markdown",
   "metadata": {},
   "source": [
    " <a id=\"2\"></a>\n",
    "    \n",
    "**Now we'll work on the daily data**\n",
    "\n",
    "[Click Here to go back to Top](#0)<br>"
   ]
  },
  {
   "cell_type": "markdown",
   "metadata": {},
   "source": [
    "**Loading our datasets**"
   ]
  },
  {
   "cell_type": "code",
   "execution_count": 2,
   "metadata": {},
   "outputs": [],
   "source": [
    "move_index = \"MOVE Index Data.xlsx\"\n",
    "move_daily = pd.read_excel(move_index, sheet_name=\"2yr Daily\", header=1,skiprows=4)\n",
    "fi_daily_trades = \"DailyTradeCounts_2016_2020.xlsx\"\n",
    "fi_trades = pd.read_excel(fi_daily_trades, sheet_name=\"20181201_20200730\")"
   ]
  },
  {
   "cell_type": "code",
   "execution_count": 2,
   "metadata": {},
   "outputs": [
    {
     "data": {
      "text/plain": [
       "['20160101_20181130', '20181201_20200730']"
      ]
     },
     "execution_count": 2,
     "metadata": {},
     "output_type": "execute_result"
    }
   ],
   "source": [
    "xl = pd.ExcelFile(\"DailyTradeCounts_2016_2020.xlsx\")\n",
    "\n",
    "xl.sheet_names  # see all sheet names"
   ]
  },
  {
   "cell_type": "code",
   "execution_count": 4,
   "metadata": {},
   "outputs": [
    {
     "data": {
      "text/html": [
       "<div>\n",
       "<style scoped>\n",
       "    .dataframe tbody tr th:only-of-type {\n",
       "        vertical-align: middle;\n",
       "    }\n",
       "\n",
       "    .dataframe tbody tr th {\n",
       "        vertical-align: top;\n",
       "    }\n",
       "\n",
       "    .dataframe thead th {\n",
       "        text-align: right;\n",
       "    }\n",
       "</style>\n",
       "<table border=\"1\" class=\"dataframe\">\n",
       "  <thead>\n",
       "    <tr style=\"text-align: right;\">\n",
       "      <th></th>\n",
       "      <th>As Of Date</th>\n",
       "      <th>Timeseries</th>\n",
       "      <th>Value (millions)</th>\n",
       "    </tr>\n",
       "  </thead>\n",
       "  <tbody>\n",
       "    <tr>\n",
       "      <th>0</th>\n",
       "      <td>2015-01-07</td>\n",
       "      <td>PDTRGSC-G11</td>\n",
       "      <td>44433</td>\n",
       "    </tr>\n",
       "    <tr>\n",
       "      <th>1</th>\n",
       "      <td>2015-01-14</td>\n",
       "      <td>PDTRGSC-G11</td>\n",
       "      <td>53779</td>\n",
       "    </tr>\n",
       "    <tr>\n",
       "      <th>2</th>\n",
       "      <td>2015-01-21</td>\n",
       "      <td>PDTRGSC-G11</td>\n",
       "      <td>48109</td>\n",
       "    </tr>\n",
       "    <tr>\n",
       "      <th>3</th>\n",
       "      <td>2015-01-28</td>\n",
       "      <td>PDTRGSC-G11</td>\n",
       "      <td>41320</td>\n",
       "    </tr>\n",
       "    <tr>\n",
       "      <th>4</th>\n",
       "      <td>2015-02-04</td>\n",
       "      <td>PDTRGSC-G11</td>\n",
       "      <td>54670</td>\n",
       "    </tr>\n",
       "  </tbody>\n",
       "</table>\n",
       "</div>"
      ],
      "text/plain": [
       "   As Of Date   Timeseries  Value (millions)\n",
       "0  2015-01-07  PDTRGSC-G11             44433\n",
       "1  2015-01-14  PDTRGSC-G11             53779\n",
       "2  2015-01-21  PDTRGSC-G11             48109\n",
       "3  2015-01-28  PDTRGSC-G11             41320\n",
       "4  2015-02-04  PDTRGSC-G11             54670"
      ]
     },
     "execution_count": 4,
     "metadata": {},
     "output_type": "execute_result"
    }
   ],
   "source": [
    "primary_dealers = \"NY Fed Primary Dealer Trade Volumes.xlsx\"\n",
    "dealer_volumes_df = pd.read_excel(primary_dealers, sheet_name=\"Sheet1\")\n",
    "\n",
    "FT_pg1 = pd.read_excel(fi_daily_trades, sheet_name=\"20160101_20181130\")\n",
    "FT_pg2 = pd.read_excel(fi_daily_trades, sheet_name=\"20181201_20200730\")\n",
    "FT_volumes = pd.concat([FT_pg1,FT_pg2])\n"
   ]
  },
  {
   "cell_type": "code",
   "execution_count": 5,
   "metadata": {},
   "outputs": [],
   "source": [
    "\n",
    "dealer_volumes_df = dealer_volumes_df.pivot(index=\"As Of Date\",columns=\"Timeseries\", values='Value (millions)') \\\n",
    "       .reset_index().rename_axis(None, axis=1)\n",
    "dealer_volumes_df.rename(columns={'As Of Date': 'Date'}, inplace=True)\n",
    "\n",
    "dealer_volumes_df.head()"
   ]
  },
  {
   "cell_type": "code",
   "execution_count": 7,
   "metadata": {},
   "outputs": [
    {
     "data": {
      "text/html": [
       "<div>\n",
       "<style scoped>\n",
       "    .dataframe tbody tr th:only-of-type {\n",
       "        vertical-align: middle;\n",
       "    }\n",
       "\n",
       "    .dataframe tbody tr th {\n",
       "        vertical-align: top;\n",
       "    }\n",
       "\n",
       "    .dataframe thead th {\n",
       "        text-align: right;\n",
       "    }\n",
       "</style>\n",
       "<table border=\"1\" class=\"dataframe\">\n",
       "  <thead>\n",
       "    <tr style=\"text-align: right;\">\n",
       "      <th></th>\n",
       "      <th>Date</th>\n",
       "      <th>PDTRGSC-G11</th>\n",
       "      <th>PDTRGSC-G2L3</th>\n",
       "      <th>PDTRGSC-G3L6</th>\n",
       "      <th>PDTRGSC-G6L7</th>\n",
       "      <th>PDTRGSC-G7L11</th>\n",
       "      <th>PDTRGSC-L2</th>\n",
       "    </tr>\n",
       "  </thead>\n",
       "  <tbody>\n",
       "    <tr>\n",
       "      <th>0</th>\n",
       "      <td>2015-01-07</td>\n",
       "      <td>44433</td>\n",
       "      <td>51914</td>\n",
       "      <td>126481</td>\n",
       "      <td>42401</td>\n",
       "      <td>88188</td>\n",
       "      <td>70987</td>\n",
       "    </tr>\n",
       "    <tr>\n",
       "      <th>1</th>\n",
       "      <td>2015-01-14</td>\n",
       "      <td>53779</td>\n",
       "      <td>68112</td>\n",
       "      <td>131245</td>\n",
       "      <td>32660</td>\n",
       "      <td>105209</td>\n",
       "      <td>75816</td>\n",
       "    </tr>\n",
       "    <tr>\n",
       "      <th>2</th>\n",
       "      <td>2015-01-21</td>\n",
       "      <td>48109</td>\n",
       "      <td>60206</td>\n",
       "      <td>137981</td>\n",
       "      <td>27971</td>\n",
       "      <td>109938</td>\n",
       "      <td>83965</td>\n",
       "    </tr>\n",
       "    <tr>\n",
       "      <th>3</th>\n",
       "      <td>2015-01-28</td>\n",
       "      <td>41320</td>\n",
       "      <td>44604</td>\n",
       "      <td>106120</td>\n",
       "      <td>26450</td>\n",
       "      <td>79307</td>\n",
       "      <td>73456</td>\n",
       "    </tr>\n",
       "    <tr>\n",
       "      <th>4</th>\n",
       "      <td>2015-02-04</td>\n",
       "      <td>54670</td>\n",
       "      <td>61332</td>\n",
       "      <td>166651</td>\n",
       "      <td>60947</td>\n",
       "      <td>103601</td>\n",
       "      <td>105996</td>\n",
       "    </tr>\n",
       "  </tbody>\n",
       "</table>\n",
       "</div>"
      ],
      "text/plain": [
       "         Date  PDTRGSC-G11  PDTRGSC-G2L3  PDTRGSC-G3L6  PDTRGSC-G6L7  \\\n",
       "0  2015-01-07        44433         51914        126481         42401   \n",
       "1  2015-01-14        53779         68112        131245         32660   \n",
       "2  2015-01-21        48109         60206        137981         27971   \n",
       "3  2015-01-28        41320         44604        106120         26450   \n",
       "4  2015-02-04        54670         61332        166651         60947   \n",
       "\n",
       "   PDTRGSC-G7L11  PDTRGSC-L2  \n",
       "0          88188       70987  \n",
       "1         105209       75816  \n",
       "2         109938       83965  \n",
       "3          79307       73456  \n",
       "4         103601      105996  "
      ]
     },
     "execution_count": 7,
     "metadata": {},
     "output_type": "execute_result"
    }
   ],
   "source": []
  },
  {
   "cell_type": "code",
   "execution_count": 59,
   "metadata": {},
   "outputs": [
    {
     "data": {
      "text/html": [
       "<div>\n",
       "<style scoped>\n",
       "    .dataframe tbody tr th:only-of-type {\n",
       "        vertical-align: middle;\n",
       "    }\n",
       "\n",
       "    .dataframe tbody tr th {\n",
       "        vertical-align: top;\n",
       "    }\n",
       "\n",
       "    .dataframe thead th {\n",
       "        text-align: right;\n",
       "    }\n",
       "</style>\n",
       "<table border=\"1\" class=\"dataframe\">\n",
       "  <thead>\n",
       "    <tr style=\"text-align: right;\">\n",
       "      <th></th>\n",
       "      <th>Date</th>\n",
       "      <th>Client</th>\n",
       "      <th>Total Trades</th>\n",
       "      <th>Non Premium</th>\n",
       "      <th>MBS/TBA</th>\n",
       "      <th>MULTI CURRENCY TRADES</th>\n",
       "      <th>Repos</th>\n",
       "      <th>TRI-PARTY TRADES</th>\n",
       "      <th>IFT</th>\n",
       "      <th>OTHERS</th>\n",
       "      <th>ENTITY COUNT</th>\n",
       "      <th>TOTALDOWNLOADCOUNTS</th>\n",
       "      <th>MAXENTITYCOUNTMTD</th>\n",
       "      <th>TRIPARTYDEALS</th>\n",
       "    </tr>\n",
       "  </thead>\n",
       "  <tbody>\n",
       "    <tr>\n",
       "      <th>18697</th>\n",
       "      <td>20200730</td>\n",
       "      <td>CIT</td>\n",
       "      <td>18340</td>\n",
       "      <td>849</td>\n",
       "      <td>459</td>\n",
       "      <td>21</td>\n",
       "      <td>0</td>\n",
       "      <td>17005</td>\n",
       "      <td>6</td>\n",
       "      <td>0</td>\n",
       "      <td>2</td>\n",
       "      <td>3050474</td>\n",
       "      <td>2</td>\n",
       "      <td>109</td>\n",
       "    </tr>\n",
       "    <tr>\n",
       "      <th>18698</th>\n",
       "      <td>20200730</td>\n",
       "      <td>JVB</td>\n",
       "      <td>388</td>\n",
       "      <td>17</td>\n",
       "      <td>2</td>\n",
       "      <td>0</td>\n",
       "      <td>0</td>\n",
       "      <td>369</td>\n",
       "      <td>0</td>\n",
       "      <td>0</td>\n",
       "      <td>1</td>\n",
       "      <td>29390</td>\n",
       "      <td>1</td>\n",
       "      <td>2</td>\n",
       "    </tr>\n",
       "    <tr>\n",
       "      <th>18699</th>\n",
       "      <td>20200730</td>\n",
       "      <td>NSI</td>\n",
       "      <td>25314</td>\n",
       "      <td>9008</td>\n",
       "      <td>2089</td>\n",
       "      <td>428</td>\n",
       "      <td>0</td>\n",
       "      <td>13031</td>\n",
       "      <td>758</td>\n",
       "      <td>0</td>\n",
       "      <td>3</td>\n",
       "      <td>4013781</td>\n",
       "      <td>3</td>\n",
       "      <td>149</td>\n",
       "    </tr>\n",
       "    <tr>\n",
       "      <th>18700</th>\n",
       "      <td>20200730</td>\n",
       "      <td>PPT</td>\n",
       "      <td>4951</td>\n",
       "      <td>2141</td>\n",
       "      <td>564</td>\n",
       "      <td>0</td>\n",
       "      <td>0</td>\n",
       "      <td>2052</td>\n",
       "      <td>194</td>\n",
       "      <td>0</td>\n",
       "      <td>2</td>\n",
       "      <td>218590</td>\n",
       "      <td>2</td>\n",
       "      <td>22</td>\n",
       "    </tr>\n",
       "    <tr>\n",
       "      <th>18701</th>\n",
       "      <td>20200730</td>\n",
       "      <td>WFS</td>\n",
       "      <td>51209</td>\n",
       "      <td>17897</td>\n",
       "      <td>4298</td>\n",
       "      <td>150</td>\n",
       "      <td>0</td>\n",
       "      <td>23942</td>\n",
       "      <td>4922</td>\n",
       "      <td>0</td>\n",
       "      <td>3</td>\n",
       "      <td>2106114</td>\n",
       "      <td>3</td>\n",
       "      <td>124</td>\n",
       "    </tr>\n",
       "  </tbody>\n",
       "</table>\n",
       "</div>"
      ],
      "text/plain": [
       "           Date Client  Total Trades  Non Premium  MBS/TBA   \\\n",
       "18697  20200730   CIT          18340          849       459   \n",
       "18698  20200730   JVB            388           17         2   \n",
       "18699  20200730   NSI          25314         9008      2089   \n",
       "18700  20200730   PPT           4951         2141       564   \n",
       "18701  20200730   WFS          51209        17897      4298   \n",
       "\n",
       "       MULTI CURRENCY TRADES  Repos  TRI-PARTY TRADES   IFT  OTHERS  \\\n",
       "18697                     21      0             17005     6       0   \n",
       "18698                      0      0               369     0       0   \n",
       "18699                    428      0             13031   758       0   \n",
       "18700                      0      0              2052   194       0   \n",
       "18701                    150      0             23942  4922       0   \n",
       "\n",
       "       ENTITY COUNT  TOTALDOWNLOADCOUNTS  MAXENTITYCOUNTMTD  TRIPARTYDEALS  \n",
       "18697             2              3050474                  2            109  \n",
       "18698             1                29390                  1              2  \n",
       "18699             3              4013781                  3            149  \n",
       "18700             2               218590                  2             22  \n",
       "18701             3              2106114                  3            124  "
      ]
     },
     "execution_count": 59,
     "metadata": {},
     "output_type": "execute_result"
    }
   ],
   "source": [
    "fi_trades.tail()"
   ]
  },
  {
   "cell_type": "code",
   "execution_count": 10,
   "metadata": {},
   "outputs": [
    {
     "data": {
      "text/html": [
       "<div>\n",
       "<style scoped>\n",
       "    .dataframe tbody tr th:only-of-type {\n",
       "        vertical-align: middle;\n",
       "    }\n",
       "\n",
       "    .dataframe tbody tr th {\n",
       "        vertical-align: top;\n",
       "    }\n",
       "\n",
       "    .dataframe thead th {\n",
       "        text-align: right;\n",
       "    }\n",
       "</style>\n",
       "<table border=\"1\" class=\"dataframe\">\n",
       "  <thead>\n",
       "    <tr style=\"text-align: right;\">\n",
       "      <th></th>\n",
       "      <th>Date</th>\n",
       "      <th>Non Premium</th>\n",
       "    </tr>\n",
       "  </thead>\n",
       "  <tbody>\n",
       "    <tr>\n",
       "      <th>0</th>\n",
       "      <td>20181201.0</td>\n",
       "      <td>0</td>\n",
       "    </tr>\n",
       "    <tr>\n",
       "      <th>1</th>\n",
       "      <td>20181201.0</td>\n",
       "      <td>0</td>\n",
       "    </tr>\n",
       "    <tr>\n",
       "      <th>2</th>\n",
       "      <td>20181201.0</td>\n",
       "      <td>0</td>\n",
       "    </tr>\n",
       "    <tr>\n",
       "      <th>3</th>\n",
       "      <td>20181201.0</td>\n",
       "      <td>0</td>\n",
       "    </tr>\n",
       "    <tr>\n",
       "      <th>4</th>\n",
       "      <td>20181203.0</td>\n",
       "      <td>28</td>\n",
       "    </tr>\n",
       "  </tbody>\n",
       "</table>\n",
       "</div>"
      ],
      "text/plain": [
       "         Date  Non Premium\n",
       "0  20181201.0            0\n",
       "1  20181201.0            0\n",
       "2  20181201.0            0\n",
       "3  20181201.0            0\n",
       "4  20181203.0           28"
      ]
     },
     "execution_count": 10,
     "metadata": {},
     "output_type": "execute_result"
    }
   ],
   "source": [
    "daily_trades = fi_trades[['Date','Non Premium']]\n",
    "daily_trades['Date'] = daily_trades['Date'].astype(float)\n",
    "daily_trades['Non Premium'] = pd.to_numeric(daily_trades['Non Premium'], errors='coerce')\n",
    "daily_trades.head()\n",
    "\n",
    "# total_trades = fi_df[['Date','Non Premium']]\n",
    "# total_trades['Non Premium'] = pd.to_numeric(total_trades['Non Premium'], errors='coerce')\n",
    "# total_trades.groupby(['Date'])['Non Premium'].agg('sum').head()\n",
    "\n",
    "# total_trades.head()\n"
   ]
  },
  {
   "cell_type": "code",
   "execution_count": 19,
   "metadata": {},
   "outputs": [],
   "source": [
    "daily_trades = fi_trades[['Date','Non Premium']]\n",
    "daily_trades['Date'] = daily_trades['Date'].astype(float)\n",
    "daily_trades['Non Premium'] = pd.to_numeric(daily_trades['Non Premium'], errors='coerce')\n",
    "daily_trades.head()\n",
    "\n",
    "daily_trades[\"Date\"] = pd.to_datetime(daily_trades[\"Date\"], format = '%Y%m%d').dt.to_period('d')\n",
    "daily_trades = daily_trades.dropna()\n",
    "daily_trades = daily_trades.reset_index(drop=True)\n",
    "daily_trades[daily_trades.Date.isnull()].shape\n",
    "\n",
    "daily_trades.rename(columns={'Non Premium': 'FI Trades'}, inplace=True)\n",
    "daily_trades.shape\n",
    "fidaily_trades = daily_trades.groupby('Date')['FI Trades'].sum()\n",
    " "
   ]
  },
  {
   "cell_type": "code",
   "execution_count": 21,
   "metadata": {},
   "outputs": [
    {
     "data": {
      "text/plain": [
       "Date\n",
       "2018-12-01         0\n",
       "2018-12-03    242155\n",
       "2018-12-04    283174\n",
       "2018-12-05     40818\n",
       "2018-12-06    292353\n",
       "Freq: D, Name: FI Trades, dtype: int64"
      ]
     },
     "execution_count": 21,
     "metadata": {},
     "output_type": "execute_result"
    }
   ],
   "source": [
    "\n",
    "fidaily_trades.head()"
   ]
  },
  {
   "cell_type": "code",
   "execution_count": 22,
   "metadata": {},
   "outputs": [],
   "source": [
    "move_daily.dropna(inplace=True)\n",
    "move_daily.reset_index(drop=True, inplace=True)\n",
    "\n",
    "move_index= move_daily[['Date','Last Px']]\n",
    "move_index.rename(columns={'Last Px': 'MOVE Index'}, inplace=True)\n",
    "move_index['MOVE Index'] = pd.to_numeric(move_index['MOVE Index'], errors='coerce')\n",
    "move_index['Date'] = pd.to_datetime(move_index['Date'], errors='coerce')\n",
    "move_index[\"Date\"] = pd.to_datetime(move_index[\"Date\"], format = '%Y%m').dt.to_period('d')\n",
    "move_index = move_index.dropna()\n",
    "move_index = move_index.reset_index(drop=True)\n"
   ]
  },
  {
   "cell_type": "code",
   "execution_count": 23,
   "metadata": {},
   "outputs": [
    {
     "data": {
      "text/html": [
       "<div>\n",
       "<style scoped>\n",
       "    .dataframe tbody tr th:only-of-type {\n",
       "        vertical-align: middle;\n",
       "    }\n",
       "\n",
       "    .dataframe tbody tr th {\n",
       "        vertical-align: top;\n",
       "    }\n",
       "\n",
       "    .dataframe thead th {\n",
       "        text-align: right;\n",
       "    }\n",
       "</style>\n",
       "<table border=\"1\" class=\"dataframe\">\n",
       "  <thead>\n",
       "    <tr style=\"text-align: right;\">\n",
       "      <th></th>\n",
       "      <th>Date</th>\n",
       "      <th>FI Trades</th>\n",
       "    </tr>\n",
       "  </thead>\n",
       "  <tbody>\n",
       "    <tr>\n",
       "      <th>0</th>\n",
       "      <td>2018-12-01</td>\n",
       "      <td>0</td>\n",
       "    </tr>\n",
       "    <tr>\n",
       "      <th>1</th>\n",
       "      <td>2018-12-01</td>\n",
       "      <td>0</td>\n",
       "    </tr>\n",
       "    <tr>\n",
       "      <th>2</th>\n",
       "      <td>2018-12-01</td>\n",
       "      <td>0</td>\n",
       "    </tr>\n",
       "    <tr>\n",
       "      <th>3</th>\n",
       "      <td>2018-12-01</td>\n",
       "      <td>0</td>\n",
       "    </tr>\n",
       "    <tr>\n",
       "      <th>4</th>\n",
       "      <td>2018-12-03</td>\n",
       "      <td>28</td>\n",
       "    </tr>\n",
       "  </tbody>\n",
       "</table>\n",
       "</div>"
      ],
      "text/plain": [
       "         Date  FI Trades\n",
       "0  2018-12-01          0\n",
       "1  2018-12-01          0\n",
       "2  2018-12-01          0\n",
       "3  2018-12-01          0\n",
       "4  2018-12-03         28"
      ]
     },
     "execution_count": 23,
     "metadata": {},
     "output_type": "execute_result"
    }
   ],
   "source": [
    "daily_trades.head()"
   ]
  },
  {
   "cell_type": "code",
   "execution_count": 24,
   "metadata": {},
   "outputs": [],
   "source": [
    "df3 = pd.merge_asof(fidaily_trades,move_index[['Date', 'MOVE Index']].sort_values('Date'),on='Date')"
   ]
  },
  {
   "cell_type": "code",
   "execution_count": 25,
   "metadata": {},
   "outputs": [
    {
     "data": {
      "text/html": [
       "<div>\n",
       "<style scoped>\n",
       "    .dataframe tbody tr th:only-of-type {\n",
       "        vertical-align: middle;\n",
       "    }\n",
       "\n",
       "    .dataframe tbody tr th {\n",
       "        vertical-align: top;\n",
       "    }\n",
       "\n",
       "    .dataframe thead th {\n",
       "        text-align: right;\n",
       "    }\n",
       "</style>\n",
       "<table border=\"1\" class=\"dataframe\">\n",
       "  <thead>\n",
       "    <tr style=\"text-align: right;\">\n",
       "      <th></th>\n",
       "      <th>Date</th>\n",
       "      <th>FI Trades</th>\n",
       "      <th>MOVE Index</th>\n",
       "    </tr>\n",
       "  </thead>\n",
       "  <tbody>\n",
       "    <tr>\n",
       "      <th>0</th>\n",
       "      <td>2018-12-01</td>\n",
       "      <td>0</td>\n",
       "      <td>52.4322</td>\n",
       "    </tr>\n",
       "    <tr>\n",
       "      <th>1</th>\n",
       "      <td>2018-12-03</td>\n",
       "      <td>242155</td>\n",
       "      <td>50.3104</td>\n",
       "    </tr>\n",
       "    <tr>\n",
       "      <th>2</th>\n",
       "      <td>2018-12-04</td>\n",
       "      <td>283174</td>\n",
       "      <td>53.8639</td>\n",
       "    </tr>\n",
       "    <tr>\n",
       "      <th>3</th>\n",
       "      <td>2018-12-05</td>\n",
       "      <td>40818</td>\n",
       "      <td>53.8639</td>\n",
       "    </tr>\n",
       "    <tr>\n",
       "      <th>4</th>\n",
       "      <td>2018-12-06</td>\n",
       "      <td>292353</td>\n",
       "      <td>60.9440</td>\n",
       "    </tr>\n",
       "  </tbody>\n",
       "</table>\n",
       "</div>"
      ],
      "text/plain": [
       "         Date  FI Trades  MOVE Index\n",
       "0  2018-12-01          0     52.4322\n",
       "1  2018-12-03     242155     50.3104\n",
       "2  2018-12-04     283174     53.8639\n",
       "3  2018-12-05      40818     53.8639\n",
       "4  2018-12-06     292353     60.9440"
      ]
     },
     "execution_count": 25,
     "metadata": {},
     "output_type": "execute_result"
    }
   ],
   "source": [
    "df3.head()"
   ]
  },
  {
   "cell_type": "code",
   "execution_count": 26,
   "metadata": {},
   "outputs": [
    {
     "data": {
      "text/plain": [
       "(415, 3)"
      ]
     },
     "execution_count": 26,
     "metadata": {},
     "output_type": "execute_result"
    }
   ],
   "source": [
    "\n",
    "#Drop all rows with zero trading values, likely weekend values but not presentative of the dataset\n",
    "df3=df3[df3['FI Trades']!=0].dropna()\n",
    "df3=df3[df3['FI Trades']>55000].dropna()\n",
    "df3.shape"
   ]
  },
  {
   "cell_type": "code",
   "execution_count": 68,
   "metadata": {},
   "outputs": [],
   "source": [
    "\n",
    "# Create a Pandas Excel writer using XlsxWriter as the engine.\n",
    "writer = pd.ExcelWriter('FI Correlation Analysis.xlsx', engine='xlsxwriter')\n",
    "# Convert the dataframe to an XlsxWriter Excel object.\n",
    "df2.to_excel(writer, sheet_name='5yrMonthly')\n",
    "#add the correlation table\n",
    "nafi_corr = df2[df2.columns[1:]].corr()['FI Trades'][1:]\n",
    "nafi_corr.to_excel(writer, sheet_name='5yrMonthly', startrow=1, startcol=13)\n",
    "# Get the xlsxwriter workbook and worksheet objects.\n",
    "workbook  = writer.book\n",
    "ws = wb.create_sheet('5yrMonthly',0) \n",
    "#worksheet = writer.sheets['5yrMonthly']\n",
    "\n",
    "# Convert the 2yr daily dataframe to an XlsxWriter Excel object.\n",
    "df3.to_excel(writer, sheet_name='2yrDaily')\n",
    "#add a correlation table\n",
    "nafi_daily_corr = df3[df3.columns[1:]].corr()['FI Trades'][1:]\n",
    "nafi_daily_corr.to_excel(writer, sheet_name='2yrDaily', startrow=1, startcol=7)\n",
    "# Get the xlsxwriter workbook and worksheet objects.\n",
    "workbook  = writer.book\n",
    "ws = wb.create_sheet('2yrDaily',1) \n",
    "\n",
    "\n",
    "writer.save()"
   ]
  },
  {
   "cell_type": "markdown",
   "metadata": {},
   "source": [
    "**Calculate our regressions**"
   ]
  },
  {
   "cell_type": "code",
   "execution_count": 69,
   "metadata": {},
   "outputs": [
    {
     "name": "stdout",
     "output_type": "stream",
     "text": [
      "Monthly r2: 0.061155308474118764\n",
      "Daily r2: 0.4131056736003903\n"
     ]
    }
   ],
   "source": [
    "import numpy as np\n",
    "from sklearn.metrics import r2_score\n",
    "\n",
    "#Monthly regression\n",
    "Y_mo = df2['FI Trades'].values.reshape(-1, 1)  # values converts it into a numpy array\n",
    "X_mo = df2['MOVE Index'].values.reshape(-1, 1)  # values converts it into a numpy array\n",
    "linear_regressor = LinearRegression()  # create object for the class\n",
    "linear_regressor.fit(X_mo, Y_mo)  # perform linear regression\n",
    "Y_pred = linear_regressor.predict(X_mo)  # make predictions\n",
    "\n",
    "#Daily regression\n",
    "Y_da = df3['FI Trades'].values.reshape(-1, 1)  # values converts it into a numpy array\n",
    "X_da = df3['MOVE Index'].values.reshape(-1, 1)  # values converts it into a numpy array\n",
    "linear_regressor = LinearRegression()  # create object for the class\n",
    "linear_regressor.fit(X_da, Y_da)  # perform linear regression\n",
    "y_pred = linear_regressor.predict(X_da)  # make predictions\n",
    "\n",
    "print(\"Monthly r2: {}\".format(r2_score(Y_mo, Y_pred)))\n",
    "print(\"Daily r2: {}\".format(r2_score(Y_da, y_pred)))\n",
    "\n",
    "#print('The value is {0}'.format(row['num']))"
   ]
  },
  {
   "cell_type": "markdown",
   "metadata": {},
   "source": [
    "**Plotting the Monthly Regression**"
   ]
  },
  {
   "cell_type": "code",
   "execution_count": 70,
   "metadata": {},
   "outputs": [
    {
     "data": {
      "image/png": "[encoded data removed]",
      "text/plain": [
       "<Figure size 432x288 with 1 Axes>"
      ]
     },
     "metadata": {},
     "output_type": "display_data"
    }
   ],
   "source": [
    "'''regplot  in the seaborn library  to  determine if the feature \n",
    "MOVE Index is negatively or positively correlated with NAFI Fixed Income volumes.'''\n",
    "from sklearn.metrics import r2_score\n",
    "import seaborn as sns\n",
    "fig = plt.figure()\n",
    "#fig.suptitle('bold figure suptitle', fontsize=14, fontweight='bold')\n",
    "\n",
    "ax = fig.add_subplot(111)\n",
    "fig.subplots_adjust(top=0.85)\n",
    "\n",
    "ax.text(75,2500, 'r2 = {}'.format(r2_score(Y_mo, Y_pred), fontsize=15))\n",
    "\n",
    "sns.regplot(x=\"MOVE Index\",y=\"FI Trades\", data=df2)\n",
    "#plt.plot(X, Y_pred, color='red')\n",
    "plt.title('5yr Monthly NAFI Trade Volumes vs MOVE Index')\n",
    "\n",
    "plt.xlabel('MOVE Index Values')\n",
    "plt.ylabel('NAFI Total Trades')\n",
    "plt.ylim(0,)\n",
    "\n",
    "plt.savefig(\"monthly_regplot.png\", dpi = 75)\n",
    "\n",
    "wb = openpyxl.load_workbook('FI Correlation Analysis.xlsx')\n",
    "wb.active = 0\n",
    "ws = wb.active\n",
    "\n",
    "\n",
    "img = openpyxl.drawing.image.Image('monthly_regplot.png')\n",
    "img.anchor = 'M8'\n",
    "\n",
    "ws.add_image(img)\n",
    "wb.save('FI Correlation Analysis.xlsx')\n"
   ]
  },
  {
   "cell_type": "markdown",
   "metadata": {},
   "source": [
    "**Plotting the daily regression**"
   ]
  },
  {
   "cell_type": "code",
   "execution_count": 71,
   "metadata": {},
   "outputs": [
    {
     "data": {
      "image/png": "[encoded data removed]",
      "text/plain": [
       "<Figure size 432x288 with 1 Axes>"
      ]
     },
     "metadata": {},
     "output_type": "display_data"
    }
   ],
   "source": [
    "'''regplot  in the seaborn library  to  determine if the feature \n",
    "MOVE Index is negatively or positively correlated with NAFI Fixed Income volumes.'''\n",
    "from sklearn.metrics import r2_score\n",
    "import seaborn as sns\n",
    "fig = plt.figure()\n",
    "#fig.suptitle('bold figure suptitle', fontsize=14, fontweight='bold')\n",
    "\n",
    "ax = fig.add_subplot(111)\n",
    "fig.subplots_adjust(top=0.85)\n",
    "\n",
    "ax.text(110,200000, 'r2 =  {}'.format(r2_score(Y_da, y_pred), fontsize=15))\n",
    "\n",
    "sns.regplot(x=\"MOVE Index\",y=\"FI Trades\", data=df3)\n",
    "#plt.plot(X, Y_pred, color='red')\n",
    "plt.title('2yr Daily NAFI Trade Volumes vs MOVE Index')\n",
    "\n",
    "plt.xlabel('MOVE Index Values')\n",
    "plt.ylabel('NAFI Total Trades')\n",
    "plt.ylim(0,)\n",
    "\n",
    "plt.savefig(\"daily_regplot.png\", dpi = 75)\n",
    "\n",
    "wb = openpyxl.load_workbook('FI Correlation Analysis.xlsx')\n",
    "wb.active = 1\n",
    "ws = wb.active\n",
    "\n",
    "img = openpyxl.drawing.image.Image('daily_regplot.png')\n",
    "img.anchor = 'E5'\n",
    "\n",
    "ws.add_image(img)\n",
    "wb.save('FI Correlation Analysis.xlsx')\n"
   ]
  },
  {
   "cell_type": "markdown",
   "metadata": {},
   "source": [
    "**Plotting 5yr correlations**"
   ]
  },
  {
   "cell_type": "code",
   "execution_count": 72,
   "metadata": {},
   "outputs": [
    {
     "data": {
      "image/png": "[encoded data removed]",
      "text/plain": [
       "<Figure size 720x180 with 4 Axes>"
      ]
     },
     "metadata": {},
     "output_type": "display_data"
    }
   ],
   "source": [
    "pp = sns.pairplot(data=df2,kind=\"reg\",\n",
    "                 y_vars=['FI Trades'],\n",
    "                 x_vars=['MOVE Index','TBills','TIPS','All Coupons'])\n",
    "\n",
    "plt.savefig(\"monthly_corr.png\", dpi = 75)\n",
    "\n",
    "wb = openpyxl.load_workbook('FI Correlation Analysis.xlsx')\n",
    "wb.active = 1\n",
    "ws = wb.active\n",
    "\n",
    "img = openpyxl.drawing.image.Image('monthly_corr.png')\n",
    "img.anchor = 'M25'\n",
    "\n",
    "ws.add_image(img)\n",
    "wb.save('FI Correlation Analysis.xlsx')"
   ]
  },
  {
   "cell_type": "markdown",
   "metadata": {},
   "source": [
    " <a id=\"3\"></a>\n",
    "\n",
    "**Run our regressions over a 5yr period for weekly data**\n",
    "\n",
    "[Click Here to go back to Top](#0)<br>\n"
   ]
  },
  {
   "cell_type": "code",
   "execution_count": 2,
   "metadata": {},
   "outputs": [],
   "source": [
    "# import pandas as pd\n",
    "\n",
    "fi_daily_trades = \"DailyTradeCounts_2016_2020.xlsx\"\n",
    "FT_pg1 = pd.read_excel(fi_daily_trades, sheet_name=\"20160101_20181130\")\n",
    "FT_pg2 = pd.read_excel(fi_daily_trades, sheet_name=\"20181201_20200730\")\n",
    "FT_volumes = pd.concat([FT_pg1,FT_pg2])\n",
    "\n",
    "primary_dealers = \"NY Fed Primary Dealer Trade Volumes.xlsx\"\n",
    "dealer_volumes_df = pd.read_excel(primary_dealers, sheet_name=\"Sheet1\")"
   ]
  },
  {
   "cell_type": "code",
   "execution_count": 3,
   "metadata": {},
   "outputs": [
    {
     "data": {
      "text/html": [
       "<div>\n",
       "<style scoped>\n",
       "    .dataframe tbody tr th:only-of-type {\n",
       "        vertical-align: middle;\n",
       "    }\n",
       "\n",
       "    .dataframe tbody tr th {\n",
       "        vertical-align: top;\n",
       "    }\n",
       "\n",
       "    .dataframe thead th {\n",
       "        text-align: right;\n",
       "    }\n",
       "</style>\n",
       "<table border=\"1\" class=\"dataframe\">\n",
       "  <thead>\n",
       "    <tr style=\"text-align: right;\">\n",
       "      <th></th>\n",
       "      <th>index</th>\n",
       "      <th>Client</th>\n",
       "      <th>Date</th>\n",
       "      <th>Total Trades</th>\n",
       "      <th>FI Trades</th>\n",
       "      <th>MBS/TBA</th>\n",
       "      <th>MULTI CURRENCY TRADES</th>\n",
       "      <th>Repos</th>\n",
       "      <th>TRI-PARTY TRADES</th>\n",
       "      <th>IFT</th>\n",
       "      <th>...</th>\n",
       "      <th>OTHERTRADES</th>\n",
       "      <th>MAXENTITY</th>\n",
       "      <th>Others</th>\n",
       "      <th>TOTALDOWNLOADCOUNTS</th>\n",
       "      <th>Enity Count</th>\n",
       "      <th>TRIPARTYDEALS</th>\n",
       "      <th>MBS/TBA</th>\n",
       "      <th>OTHERS</th>\n",
       "      <th>ENTITY COUNT</th>\n",
       "      <th>MAXENTITYCOUNTMTD</th>\n",
       "    </tr>\n",
       "  </thead>\n",
       "  <tbody>\n",
       "    <tr>\n",
       "      <th>0</th>\n",
       "      <td>0</td>\n",
       "      <td>ACC</td>\n",
       "      <td>2016-01-06</td>\n",
       "      <td>101</td>\n",
       "      <td>91</td>\n",
       "      <td>10.0</td>\n",
       "      <td>0</td>\n",
       "      <td>0</td>\n",
       "      <td>0</td>\n",
       "      <td>0</td>\n",
       "      <td>...</td>\n",
       "      <td>0.0</td>\n",
       "      <td>4.0</td>\n",
       "      <td>0.0</td>\n",
       "      <td>0</td>\n",
       "      <td>4.0</td>\n",
       "      <td>0</td>\n",
       "      <td>0.0</td>\n",
       "      <td>0.0</td>\n",
       "      <td>0.0</td>\n",
       "      <td>0.0</td>\n",
       "    </tr>\n",
       "    <tr>\n",
       "      <th>1</th>\n",
       "      <td>2379</td>\n",
       "      <td>CNA</td>\n",
       "      <td>2016-01-06</td>\n",
       "      <td>1202</td>\n",
       "      <td>964</td>\n",
       "      <td>0.0</td>\n",
       "      <td>7</td>\n",
       "      <td>0</td>\n",
       "      <td>231</td>\n",
       "      <td>0</td>\n",
       "      <td>...</td>\n",
       "      <td>0.0</td>\n",
       "      <td>20.0</td>\n",
       "      <td>0.0</td>\n",
       "      <td>14799</td>\n",
       "      <td>20.0</td>\n",
       "      <td>8</td>\n",
       "      <td>0.0</td>\n",
       "      <td>0.0</td>\n",
       "      <td>0.0</td>\n",
       "      <td>0.0</td>\n",
       "    </tr>\n",
       "    <tr>\n",
       "      <th>2</th>\n",
       "      <td>245</td>\n",
       "      <td>BMO</td>\n",
       "      <td>2016-01-06</td>\n",
       "      <td>25214</td>\n",
       "      <td>18529</td>\n",
       "      <td>305.0</td>\n",
       "      <td>17</td>\n",
       "      <td>0</td>\n",
       "      <td>6363</td>\n",
       "      <td>0</td>\n",
       "      <td>...</td>\n",
       "      <td>0.0</td>\n",
       "      <td>52.0</td>\n",
       "      <td>0.0</td>\n",
       "      <td>1918523</td>\n",
       "      <td>52.0</td>\n",
       "      <td>184</td>\n",
       "      <td>0.0</td>\n",
       "      <td>0.0</td>\n",
       "      <td>0.0</td>\n",
       "      <td>0.0</td>\n",
       "    </tr>\n",
       "    <tr>\n",
       "      <th>3</th>\n",
       "      <td>240</td>\n",
       "      <td>AMH</td>\n",
       "      <td>2016-01-06</td>\n",
       "      <td>0</td>\n",
       "      <td>0</td>\n",
       "      <td>0.0</td>\n",
       "      <td>0</td>\n",
       "      <td>0</td>\n",
       "      <td>0</td>\n",
       "      <td>0</td>\n",
       "      <td>...</td>\n",
       "      <td>0.0</td>\n",
       "      <td>3.0</td>\n",
       "      <td>0.0</td>\n",
       "      <td>0</td>\n",
       "      <td>3.0</td>\n",
       "      <td>0</td>\n",
       "      <td>0.0</td>\n",
       "      <td>0.0</td>\n",
       "      <td>0.0</td>\n",
       "      <td>0.0</td>\n",
       "    </tr>\n",
       "    <tr>\n",
       "      <th>4</th>\n",
       "      <td>2139</td>\n",
       "      <td>CIT</td>\n",
       "      <td>2016-01-06</td>\n",
       "      <td>23667</td>\n",
       "      <td>2572</td>\n",
       "      <td>867.0</td>\n",
       "      <td>49</td>\n",
       "      <td>0</td>\n",
       "      <td>20104</td>\n",
       "      <td>75</td>\n",
       "      <td>...</td>\n",
       "      <td>0.0</td>\n",
       "      <td>8.0</td>\n",
       "      <td>0.0</td>\n",
       "      <td>2915808</td>\n",
       "      <td>8.0</td>\n",
       "      <td>143</td>\n",
       "      <td>0.0</td>\n",
       "      <td>0.0</td>\n",
       "      <td>0.0</td>\n",
       "      <td>0.0</td>\n",
       "    </tr>\n",
       "  </tbody>\n",
       "</table>\n",
       "<p>5 rows × 21 columns</p>\n",
       "</div>"
      ],
      "text/plain": [
       "   index Client       Date  Total Trades  FI Trades  MBS/TBA  \\\n",
       "0      0   ACC  2016-01-06           101         91     10.0   \n",
       "1   2379   CNA  2016-01-06          1202        964      0.0   \n",
       "2    245   BMO  2016-01-06         25214      18529    305.0   \n",
       "3    240   AMH  2016-01-06             0          0      0.0   \n",
       "4   2139   CIT  2016-01-06         23667       2572    867.0   \n",
       "\n",
       "   MULTI CURRENCY TRADES  Repos  TRI-PARTY TRADES  IFT  ...  OTHERTRADES  \\\n",
       "0                      0      0                 0    0  ...          0.0   \n",
       "1                      7      0               231    0  ...          0.0   \n",
       "2                     17      0              6363    0  ...          0.0   \n",
       "3                      0      0                 0    0  ...          0.0   \n",
       "4                     49      0             20104   75  ...          0.0   \n",
       "\n",
       "   MAXENTITY  Others  TOTALDOWNLOADCOUNTS  Enity Count  TRIPARTYDEALS  \\\n",
       "0        4.0     0.0                    0          4.0              0   \n",
       "1       20.0     0.0                14799         20.0              8   \n",
       "2       52.0     0.0              1918523         52.0            184   \n",
       "3        3.0     0.0                    0          3.0              0   \n",
       "4        8.0     0.0              2915808          8.0            143   \n",
       "\n",
       "   MBS/TBA   OTHERS  ENTITY COUNT  MAXENTITYCOUNTMTD  \n",
       "0       0.0     0.0           0.0                0.0  \n",
       "1       0.0     0.0           0.0                0.0  \n",
       "2       0.0     0.0           0.0                0.0  \n",
       "3       0.0     0.0           0.0                0.0  \n",
       "4       0.0     0.0           0.0                0.0  \n",
       "\n",
       "[5 rows x 21 columns]"
      ]
     },
     "execution_count": 3,
     "metadata": {},
     "output_type": "execute_result"
    }
   ],
   "source": [
    "#Clean up the date format first\n",
    "from datetime import datetime\n",
    "FT_volumes['Date'] = pd.to_datetime(FT_volumes['Date'].astype(str), format='%Y-%m-%d')\n",
    "#rename the non-premium column so it's clear we're working with FI trades\n",
    "FT_volumes.rename(columns={'Non Premium': 'FI Trades'}, inplace=True)\n",
    "#convert daily data to weekly for each client\n",
    "weekly_trades = FT_volumes.groupby(\"Client\").resample('W-Wed', \n",
    "                                                        label='right', closed = 'right', on='Date').sum().reset_index().sort_values(by='Date')\n",
    "\n",
    "#We could have only done the following simple resample if the datetime object was in the form\n",
    "#of a datetime or PeriodIndex instead of the int64 of its current state.  Instead we use groupby\n",
    "#to help perform the resample.\n",
    "# weekly_trades = FT_volumes.resample('W').sum()\n",
    "\n",
    "weekly_trades.reset_index(inplace=True)\n",
    "weekly_trades.head()"
   ]
  },
  {
   "cell_type": "code",
   "execution_count": 4,
   "metadata": {},
   "outputs": [
    {
     "data": {
      "text/plain": [
       "Date\n",
       "2016-01-06     583640\n",
       "2016-01-13    1018882\n",
       "2016-01-20     868001\n",
       "2016-01-27    1006613\n",
       "2016-02-03    1080292\n",
       "Name: FI Trades, dtype: int64"
      ]
     },
     "execution_count": 4,
     "metadata": {},
     "output_type": "execute_result"
    }
   ],
   "source": [
    "#aggregate down the dataframe to just the date and activity\n",
    "\n",
    "fiweekly_trades = weekly_trades.groupby(['Date'])['FI Trades'].agg('sum')\n",
    "fiweekly_trades.head()"
   ]
  },
  {
   "cell_type": "markdown",
   "metadata": {},
   "source": [
    "**IF necessary, we can fix our dates to account for the 1970s issue time stamp**\n",
    "### from datetime import datetime\n",
    "\n",
    "### FT_volumes['Date']=pd.to_datetime(FT_volumes['Date'], unit='s')\n",
    "### pandas.to_datetime(1490772583, unit='s')"
   ]
  },
  {
   "cell_type": "code",
   "execution_count": 5,
   "metadata": {},
   "outputs": [],
   "source": [
    "#now we standarize and clean up the NY Fed data\n",
    "\n",
    "\n",
    "dealer_volumes_df = dealer_volumes_df.pivot(index=\"As Of Date\",columns=\"Timeseries\", values='Value (millions)') \\\n",
    "       .reset_index().rename_axis(None, axis=1)\n",
    "dealer_volumes_df.rename(columns={'As Of Date': 'Date',\n",
    "                                  'PDTRGSC-L2':'< 2yr duration',\n",
    "                                  'PDTRGSC-G2L3':'2-3yr duration',\n",
    "                                  'PDTRGSC-G3L6':'3-6yr duration',\n",
    "                                  'PDTRGSC-G6L7':'6-7yr duration',\n",
    "                                  'PDTRGSC-G7L11':'7-11yr duration',\n",
    "                                  'PDTRGSC-G11':'> 11yr duration',\n",
    "                                  }, \n",
    "                         inplace=True)"
   ]
  },
  {
   "cell_type": "code",
   "execution_count": 34,
   "metadata": {},
   "outputs": [
    {
     "data": {
      "text/html": [
       "<div>\n",
       "<style scoped>\n",
       "    .dataframe tbody tr th:only-of-type {\n",
       "        vertical-align: middle;\n",
       "    }\n",
       "\n",
       "    .dataframe tbody tr th {\n",
       "        vertical-align: top;\n",
       "    }\n",
       "\n",
       "    .dataframe thead th {\n",
       "        text-align: right;\n",
       "    }\n",
       "</style>\n",
       "<table border=\"1\" class=\"dataframe\">\n",
       "  <thead>\n",
       "    <tr style=\"text-align: right;\">\n",
       "      <th></th>\n",
       "      <th>Date</th>\n",
       "      <th>&lt; 2yr duration</th>\n",
       "      <th>2-3yr duration</th>\n",
       "      <th>3-6yr duration</th>\n",
       "      <th>6-7yr duration</th>\n",
       "      <th>7-11yr duration</th>\n",
       "      <th>&gt; 11yr duration</th>\n",
       "    </tr>\n",
       "  </thead>\n",
       "  <tbody>\n",
       "    <tr>\n",
       "      <th>0</th>\n",
       "      <td>2015-01-07</td>\n",
       "      <td>70987</td>\n",
       "      <td>51914</td>\n",
       "      <td>126481</td>\n",
       "      <td>42401</td>\n",
       "      <td>88188</td>\n",
       "      <td>44433</td>\n",
       "    </tr>\n",
       "    <tr>\n",
       "      <th>1</th>\n",
       "      <td>2015-01-14</td>\n",
       "      <td>75816</td>\n",
       "      <td>68112</td>\n",
       "      <td>131245</td>\n",
       "      <td>32660</td>\n",
       "      <td>105209</td>\n",
       "      <td>53779</td>\n",
       "    </tr>\n",
       "    <tr>\n",
       "      <th>2</th>\n",
       "      <td>2015-01-21</td>\n",
       "      <td>83965</td>\n",
       "      <td>60206</td>\n",
       "      <td>137981</td>\n",
       "      <td>27971</td>\n",
       "      <td>109938</td>\n",
       "      <td>48109</td>\n",
       "    </tr>\n",
       "    <tr>\n",
       "      <th>3</th>\n",
       "      <td>2015-01-28</td>\n",
       "      <td>73456</td>\n",
       "      <td>44604</td>\n",
       "      <td>106120</td>\n",
       "      <td>26450</td>\n",
       "      <td>79307</td>\n",
       "      <td>41320</td>\n",
       "    </tr>\n",
       "    <tr>\n",
       "      <th>4</th>\n",
       "      <td>2015-02-04</td>\n",
       "      <td>105996</td>\n",
       "      <td>61332</td>\n",
       "      <td>166651</td>\n",
       "      <td>60947</td>\n",
       "      <td>103601</td>\n",
       "      <td>54670</td>\n",
       "    </tr>\n",
       "  </tbody>\n",
       "</table>\n",
       "</div>"
      ],
      "text/plain": [
       "        Date  < 2yr duration  2-3yr duration  3-6yr duration  6-7yr duration  \\\n",
       "0 2015-01-07           70987           51914          126481           42401   \n",
       "1 2015-01-14           75816           68112          131245           32660   \n",
       "2 2015-01-21           83965           60206          137981           27971   \n",
       "3 2015-01-28           73456           44604          106120           26450   \n",
       "4 2015-02-04          105996           61332          166651           60947   \n",
       "\n",
       "   7-11yr duration  > 11yr duration  \n",
       "0            88188            44433  \n",
       "1           105209            53779  \n",
       "2           109938            48109  \n",
       "3            79307            41320  \n",
       "4           103601            54670  "
      ]
     },
     "execution_count": 34,
     "metadata": {},
     "output_type": "execute_result"
    }
   ],
   "source": [
    "columnsTitles = ['Date','< 2yr duration','2-3yr duration',\n",
    "                 '3-6yr duration','6-7yr duration',\n",
    "                 '7-11yr duration','> 11yr duration']\n",
    "cols = ['< 2yr duration','2-3yr duration',\n",
    "                 '3-6yr duration','6-7yr duration',\n",
    "                 '7-11yr duration','> 11yr duration']\n",
    "dealer_volumes_df = dealer_volumes_df.reindex(columns=columnsTitles)\n",
    "dealer_volumes_df[cols] = dealer_volumes_df[cols].apply(pd.to_numeric, errors='coerce')\n",
    "dealer_volumes_df.head()"
   ]
  },
  {
   "cell_type": "code",
   "execution_count": 35,
   "metadata": {},
   "outputs": [
    {
     "name": "stdout",
     "output_type": "stream",
     "text": [
      "Date                   datetime64[ns]\n",
      "< 2yr duration                  int64\n",
      "2-3yr duration                  int64\n",
      "3-6yr duration                  int64\n",
      "6-7yr duration                  int64\n",
      "7-11yr duration                 int64\n",
      "> 11yr duration                 int64\n",
      "All Treasury Volume             int64\n",
      "dtype: object\n",
      "(0, 8)\n"
     ]
    },
    {
     "data": {
      "text/html": [
       "<div>\n",
       "<style scoped>\n",
       "    .dataframe tbody tr th:only-of-type {\n",
       "        vertical-align: middle;\n",
       "    }\n",
       "\n",
       "    .dataframe tbody tr th {\n",
       "        vertical-align: top;\n",
       "    }\n",
       "\n",
       "    .dataframe thead th {\n",
       "        text-align: right;\n",
       "    }\n",
       "</style>\n",
       "<table border=\"1\" class=\"dataframe\">\n",
       "  <thead>\n",
       "    <tr style=\"text-align: right;\">\n",
       "      <th></th>\n",
       "      <th>Date</th>\n",
       "      <th>&lt; 2yr duration</th>\n",
       "      <th>2-3yr duration</th>\n",
       "      <th>3-6yr duration</th>\n",
       "      <th>6-7yr duration</th>\n",
       "      <th>7-11yr duration</th>\n",
       "      <th>&gt; 11yr duration</th>\n",
       "      <th>All Treasury Volume</th>\n",
       "    </tr>\n",
       "  </thead>\n",
       "  <tbody>\n",
       "    <tr>\n",
       "      <th>0</th>\n",
       "      <td>2015-01-07</td>\n",
       "      <td>70987</td>\n",
       "      <td>51914</td>\n",
       "      <td>126481</td>\n",
       "      <td>42401</td>\n",
       "      <td>88188</td>\n",
       "      <td>44433</td>\n",
       "      <td>424404</td>\n",
       "    </tr>\n",
       "    <tr>\n",
       "      <th>1</th>\n",
       "      <td>2015-01-14</td>\n",
       "      <td>75816</td>\n",
       "      <td>68112</td>\n",
       "      <td>131245</td>\n",
       "      <td>32660</td>\n",
       "      <td>105209</td>\n",
       "      <td>53779</td>\n",
       "      <td>466821</td>\n",
       "    </tr>\n",
       "    <tr>\n",
       "      <th>2</th>\n",
       "      <td>2015-01-21</td>\n",
       "      <td>83965</td>\n",
       "      <td>60206</td>\n",
       "      <td>137981</td>\n",
       "      <td>27971</td>\n",
       "      <td>109938</td>\n",
       "      <td>48109</td>\n",
       "      <td>468170</td>\n",
       "    </tr>\n",
       "    <tr>\n",
       "      <th>3</th>\n",
       "      <td>2015-01-28</td>\n",
       "      <td>73456</td>\n",
       "      <td>44604</td>\n",
       "      <td>106120</td>\n",
       "      <td>26450</td>\n",
       "      <td>79307</td>\n",
       "      <td>41320</td>\n",
       "      <td>371257</td>\n",
       "    </tr>\n",
       "    <tr>\n",
       "      <th>4</th>\n",
       "      <td>2015-02-04</td>\n",
       "      <td>105996</td>\n",
       "      <td>61332</td>\n",
       "      <td>166651</td>\n",
       "      <td>60947</td>\n",
       "      <td>103601</td>\n",
       "      <td>54670</td>\n",
       "      <td>553197</td>\n",
       "    </tr>\n",
       "  </tbody>\n",
       "</table>\n",
       "</div>"
      ],
      "text/plain": [
       "        Date  < 2yr duration  2-3yr duration  3-6yr duration  6-7yr duration  \\\n",
       "0 2015-01-07           70987           51914          126481           42401   \n",
       "1 2015-01-14           75816           68112          131245           32660   \n",
       "2 2015-01-21           83965           60206          137981           27971   \n",
       "3 2015-01-28           73456           44604          106120           26450   \n",
       "4 2015-02-04          105996           61332          166651           60947   \n",
       "\n",
       "   7-11yr duration  > 11yr duration  All Treasury Volume  \n",
       "0            88188            44433               424404  \n",
       "1           105209            53779               466821  \n",
       "2           109938            48109               468170  \n",
       "3            79307            41320               371257  \n",
       "4           103601            54670               553197  "
      ]
     },
     "execution_count": 35,
     "metadata": {},
     "output_type": "execute_result"
    }
   ],
   "source": [
    "dealer_volumes_df['Date']= pd.to_datetime(dealer_volumes_df['Date'])\n",
    "dealer_volumes_df[['< 2yr duration','2-3yr duration',\n",
    "                 '3-6yr duration','6-7yr duration',\n",
    "                 '7-11yr duration','> 11yr duration']].astype(np.float64)\n",
    "\n",
    "dealer_volumes_df[\"All Treasury Volume\"] = dealer_volumes_df[cols].sum(axis=1) \n",
    "# dealer_volumes_df['> 11yr series'] = pd.to_numeric(dealer_volumes_df['> 11yr series'])\n",
    "print(dealer_volumes_df.dtypes)\n",
    "print(dealer_volumes_df[dealer_volumes_df['All Treasury Volume'].isnull()].shape)\n",
    "dealer_volumes_df.head()"
   ]
  },
  {
   "cell_type": "code",
   "execution_count": 36,
   "metadata": {},
   "outputs": [],
   "source": [
    "#Let's combine our cleanup dataframes\n",
    "df_wkly = pd.merge_asof(fiweekly_trades,dealer_volumes_df[['Date','< 2yr duration','2-3yr duration',\n",
    "                 '3-6yr duration','6-7yr duration',\n",
    "                 '7-11yr duration','> 11yr duration','All Treasury Volume']].sort_values('Date'),on='Date')"
   ]
  },
  {
   "cell_type": "code",
   "execution_count": 37,
   "metadata": {},
   "outputs": [
    {
     "data": {
      "text/plain": [
       "Date                   datetime64[ns]\n",
       "FI Trades                       int64\n",
       "< 2yr duration                  int64\n",
       "2-3yr duration                  int64\n",
       "3-6yr duration                  int64\n",
       "6-7yr duration                  int64\n",
       "7-11yr duration                 int64\n",
       "> 11yr duration                 int64\n",
       "All Treasury Volume             int64\n",
       "dtype: object"
      ]
     },
     "execution_count": 37,
     "metadata": {},
     "output_type": "execute_result"
    }
   ],
   "source": [
    "dealer_volumes_df\n",
    "df_wkly.dtypes"
   ]
  },
  {
   "cell_type": "code",
   "execution_count": 38,
   "metadata": {},
   "outputs": [],
   "source": [
    "#Let's save the dataframe and create a file to add our visuals\n",
    "from openpyxl import Workbook, drawing  # also import drawing namespace\n",
    "from openpyxl import Workbook\n",
    "wb = Workbook()\n",
    "\n",
    "# Create a Pandas Excel writer using XlsxWriter as the engine.\n",
    "writer = pd.ExcelWriter('FI Weekly Correlation Analysis.xlsx', engine='xlsxwriter')\n",
    "# Convert the dataframe to an XlsxWriter Excel object.\n",
    "df_wkly.to_excel(writer, sheet_name='Weekly_correlations')\n",
    "#add the correlation table\n",
    "# nafi_corr = df_wkly[df_wkly.columns[1:]].corr()['FI Trades'][1:]\n",
    "# nafi_corr.to_excel(writer, sheet_name='Weekly_correlations', startrow=1, startcol=13)\n",
    "# # Get the xlsxwriter workbook and worksheet objects.\n",
    "workbook  = writer.book\n",
    "ws = wb.create_sheet('Weekly_correlations',0) \n",
    "worksheet = writer.sheets['Weekly_correlations']\n",
    "\n",
    "#create second tab\n",
    "\n",
    "# Convert the dataframe to an XlsxWriter Excel object.\n",
    "df_wkly.to_excel(writer, sheet_name='Charts')\n",
    "workbook  = writer.book\n",
    "ws = wb.create_sheet('Charts',1) \n",
    "worksheet = writer.sheets['Charts']\n",
    "\n",
    "writer.save()"
   ]
  },
  {
   "cell_type": "code",
   "execution_count": 39,
   "metadata": {},
   "outputs": [
    {
     "name": "stderr",
     "output_type": "stream",
     "text": [
      "/home/jupyterlab/conda/envs/python/lib/python3.6/site-packages/sklearn/utils/validation.py:595: DataConversionWarning: Data with input dtype int64 was converted to float64 by StandardScaler.\n",
      "  warnings.warn(msg, DataConversionWarning)\n",
      "/home/jupyterlab/conda/envs/python/lib/python3.6/site-packages/sklearn/utils/validation.py:595: DataConversionWarning: Data with input dtype int64 was converted to float64 by StandardScaler.\n",
      "  warnings.warn(msg, DataConversionWarning)\n"
     ]
    }
   ],
   "source": [
    "#Calculate the covariance matrix\n",
    "import numpy as np\n",
    "import matplotlib.pyplot as plt\n",
    "import seaborn as sns\n",
    "\n",
    "\n",
    "cols = ['FI Trades','< 2yr duration','2-3yr duration',\n",
    "                 '3-6yr duration','6-7yr duration',\n",
    "                 '7-11yr duration','> 11yr duration','All Treasury Volume']\n",
    "\n",
    "from sklearn.preprocessing import StandardScaler\n",
    "\n",
    "sc = StandardScaler()\n",
    "\n",
    "X_std = sc.fit_transform(df_wkly[cols].iloc[:,range(0,8)].values)\n",
    "\n",
    "cov_mat = np.cov(X_std.T)"
   ]
  },
  {
   "cell_type": "code",
   "execution_count": 13,
   "metadata": {},
   "outputs": [
    {
     "ename": "AttributeError",
     "evalue": "'AxesSubplot' object has no attribute 'ax_heatmap'",
     "output_type": "error",
     "traceback": [
      "\u001b[0;31m---------------------------------------------------------------------------\u001b[0m",
      "\u001b[0;31mAttributeError\u001b[0m                            Traceback (most recent call last)",
      "\u001b[0;32m<ipython-input-13-77efb25652f6>\u001b[0m in \u001b[0;36m<module>\u001b[0;34m\u001b[0m\n\u001b[1;32m     14\u001b[0m \u001b[0mget_ipython\u001b[0m\u001b[0;34m(\u001b[0m\u001b[0;34m)\u001b[0m\u001b[0;34m.\u001b[0m\u001b[0mrun_line_magic\u001b[0m\u001b[0;34m(\u001b[0m\u001b[0;34m'matplotlib'\u001b[0m\u001b[0;34m,\u001b[0m \u001b[0;34m'inline'\u001b[0m\u001b[0;34m)\u001b[0m\u001b[0;34m\u001b[0m\u001b[0;34m\u001b[0m\u001b[0m\n\u001b[1;32m     15\u001b[0m \u001b[0;34m\u001b[0m\u001b[0m\n\u001b[0;32m---> 16\u001b[0;31m \u001b[0max\u001b[0m \u001b[0;34m=\u001b[0m \u001b[0mhm\u001b[0m\u001b[0;34m.\u001b[0m\u001b[0max_heatmap\u001b[0m\u001b[0;34m\u001b[0m\u001b[0;34m\u001b[0m\u001b[0m\n\u001b[0m\u001b[1;32m     17\u001b[0m \u001b[0max\u001b[0m\u001b[0;34m.\u001b[0m\u001b[0madd_patch\u001b[0m\u001b[0;34m(\u001b[0m\u001b[0mRectangle\u001b[0m\u001b[0;34m(\u001b[0m\u001b[0;34m(\u001b[0m\u001b[0;36m2\u001b[0m\u001b[0;34m,\u001b[0m \u001b[0;36m3\u001b[0m\u001b[0;34m)\u001b[0m\u001b[0;34m,\u001b[0m \u001b[0;36m1\u001b[0m\u001b[0;34m,\u001b[0m \u001b[0;36m1\u001b[0m\u001b[0;34m,\u001b[0m \u001b[0medgecolor\u001b[0m\u001b[0;34m=\u001b[0m\u001b[0;34m'blue'\u001b[0m\u001b[0;34m,\u001b[0m \u001b[0mfill\u001b[0m\u001b[0;34m=\u001b[0m\u001b[0;32mFalse\u001b[0m\u001b[0;34m,\u001b[0m \u001b[0mlw\u001b[0m\u001b[0;34m=\u001b[0m\u001b[0;36m3\u001b[0m\u001b[0;34m)\u001b[0m\u001b[0;34m)\u001b[0m\u001b[0;34m\u001b[0m\u001b[0;34m\u001b[0m\u001b[0m\n\u001b[1;32m     18\u001b[0m \u001b[0;34m\u001b[0m\u001b[0m\n",
      "\u001b[0;31mAttributeError\u001b[0m: 'AxesSubplot' object has no attribute 'ax_heatmap'"
     ]
    }
   ],
   "source": [
    "#Generate HeatMap for visualizing the covariance matrix\n",
    "\n",
    "plt.figure(figsize=(8,6))\n",
    "sns.set(font_scale=1.1)\n",
    "hm = sns.heatmap(cov_mat, cbar=True, annot=True, \n",
    "                 square=True, fmt='.2f', annot_kws={'size':12},\n",
    "                 yticklabels = cols,\n",
    "                 xticklabels = cols)\n",
    "\n",
    "plt.title('Treasury Correlation Matrix')\n",
    "plt.tight_layout()\n",
    "\n",
    "from matplotlib.patches import Rectangle\n",
    "%matplotlib inline\n",
    "\n",
    "ax = hm.ax_heatmap\n",
    "ax.add_patch(Rectangle((2, 3), 1, 1, edgecolor='blue', fill=False, lw=3))\n",
    "\n",
    "plt.show\n",
    "\n",
    "# plt.savefig(\"matrix1.png\", dpi = 75)\n",
    "\n",
    "# wb = openpyxl.load_workbook('FI Weekly Correlation Analysis.xlsx')\n",
    "# wb.active = 1\n",
    "# ws = wb.active\n",
    "\n",
    "# img = openpyxl.drawing.image.Image('matrix1.png')\n",
    "# img.anchor = 'B2'\n",
    "\n",
    "# ws.add_image(img)\n",
    "# wb.save('FI Weekly Correlation Analysis.xlsx')\n",
    "\n"
   ]
  },
  {
   "cell_type": "code",
   "execution_count": 40,
   "metadata": {},
   "outputs": [
    {
     "data": {
      "image/png": "[encoded data removed]",
      "text/plain": [
       "<Figure size 576x432 with 1 Axes>"
      ]
     },
     "metadata": {
      "needs_background": "light"
     },
     "output_type": "display_data"
    }
   ],
   "source": [
    "import numpy as np\n",
    "from matplotlib import pyplot as plt\n",
    "import seaborn as sns\n",
    "from matplotlib.patches import Rectangle\n",
    "%matplotlib inline\n",
    "\n",
    "plt.figure(figsize=(8,6))\n",
    "sns.set(font_scale=1.1)\n",
    "\n",
    "plt.title('Treasury Correlation Matrix')\n",
    "\n",
    "\n",
    "ax = sns.heatmap(cov_mat, cbar=False, annot=True, \n",
    "                 square=True, fmt='.2f', annot_kws={'size':10},\n",
    "                 yticklabels = cols,\n",
    "                 xticklabels = cols)\n",
    "ax.figure.tight_layout()\n",
    "#this fixes the labels from getting cut off\n",
    "plt.subplots_adjust(bottom=0.32)\n",
    "\n",
    "#adding 2 heatmap cells accessed using their cell location (2,3) to change the cell color or add the border\n",
    "ax.add_patch(Rectangle((7,0), 1, 1, edgecolor='blue', fill=False, lw=3))\n",
    "ax.add_patch(Rectangle((0,7), 1, 1, edgecolor='blue', fill=False, lw=3))\n",
    "\n",
    "\n",
    "plt.savefig(\"matrix3.png\", dpi = 65)\n",
    "\n",
    "plt.show()\n",
    "\n",
    "\n",
    "\n",
    "wb = openpyxl.load_workbook('FI Weekly Correlation Analysis.xlsx')\n",
    "#sets the excel tab to place the image on\n",
    "wb.active = 1\n",
    "ws = wb.active\n",
    "\n",
    "img = openpyxl.drawing.image.Image('matrix3.png')\n",
    "img.anchor = 'B2'\n",
    "\n",
    "ws.add_image(img)\n",
    "wb.save('FI Weekly Correlation Analysis.xlsx')\n",
    "\n"
   ]
  },
  {
   "cell_type": "code",
   "execution_count": 42,
   "metadata": {},
   "outputs": [
    {
     "name": "stdout",
     "output_type": "stream",
     "text": [
      "The > 11yr duration weekly r^2 is: 0.497\n",
      "All Treasury Volume r^2 is: 0.395\n"
     ]
    }
   ],
   "source": [
    "#The 11yr series seems to have the most correlation - let's plot that regression\n",
    "from sklearn.metrics import r2_score\n",
    "\n",
    "df_select = df_wkly[['FI Trades','> 11yr duration']]\n",
    "\n",
    "#Wkly regression\n",
    "Y_wk = df_select['FI Trades'].values.reshape(-1, 1)  # values converts it into a numpy array\n",
    "X_wk = df_select['> 11yr duration'].values.reshape(-1, 1)  # values converts it into a numpy array\n",
    "linear_regressor = LinearRegression()  # create object for the class\n",
    "linear_regressor.fit(X_wk, Y_wk)  # perform linear regression\n",
    "Y_pred = linear_regressor.predict(X_wk)  # make predictions\n",
    "\n",
    "#regressing against the total volumes\n",
    "df_select = df_wkly[['FI Trades','All Treasury Volume']]\n",
    "\n",
    "#Wkly regression\n",
    "tY_wk = df_select['FI Trades'].values.reshape(-1, 1)  # values converts it into a numpy array\n",
    "tX_wk = df_select['All Treasury Volume'].values.reshape(-1, 1)  # values converts it into a numpy array\n",
    "linear_regressor = LinearRegression()  # create object for the class\n",
    "linear_regressor.fit(tX_wk, tY_wk)  # perform linear regression\n",
    "tY_pred = linear_regressor.predict(tX_wk)  # make predictions\n",
    "\n",
    "\n",
    "print('The > 11yr duration weekly r^2 is: {}'.format(round(r2_score(Y_wk, Y_pred),3)))\n",
    "print('All Treasury Volume r^2 is: {}'.format(round(r2_score(tY_wk, tY_pred),3)))"
   ]
  },
  {
   "cell_type": "code",
   "execution_count": 43,
   "metadata": {},
   "outputs": [
    {
     "data": {
      "text/html": [
       "<div>\n",
       "<style scoped>\n",
       "    .dataframe tbody tr th:only-of-type {\n",
       "        vertical-align: middle;\n",
       "    }\n",
       "\n",
       "    .dataframe tbody tr th {\n",
       "        vertical-align: top;\n",
       "    }\n",
       "\n",
       "    .dataframe thead th {\n",
       "        text-align: right;\n",
       "    }\n",
       "</style>\n",
       "<table border=\"1\" class=\"dataframe\">\n",
       "  <thead>\n",
       "    <tr style=\"text-align: right;\">\n",
       "      <th></th>\n",
       "      <th>FI Trades</th>\n",
       "      <th>All Treasury Volume</th>\n",
       "    </tr>\n",
       "  </thead>\n",
       "  <tbody>\n",
       "    <tr>\n",
       "      <th>0</th>\n",
       "      <td>583640</td>\n",
       "      <td>410816</td>\n",
       "    </tr>\n",
       "    <tr>\n",
       "      <th>1</th>\n",
       "      <td>1018882</td>\n",
       "      <td>482166</td>\n",
       "    </tr>\n",
       "    <tr>\n",
       "      <th>2</th>\n",
       "      <td>868001</td>\n",
       "      <td>450443</td>\n",
       "    </tr>\n",
       "    <tr>\n",
       "      <th>3</th>\n",
       "      <td>1006613</td>\n",
       "      <td>413847</td>\n",
       "    </tr>\n",
       "    <tr>\n",
       "      <th>4</th>\n",
       "      <td>1080292</td>\n",
       "      <td>491676</td>\n",
       "    </tr>\n",
       "  </tbody>\n",
       "</table>\n",
       "</div>"
      ],
      "text/plain": [
       "   FI Trades  All Treasury Volume\n",
       "0     583640               410816\n",
       "1    1018882               482166\n",
       "2     868001               450443\n",
       "3    1006613               413847\n",
       "4    1080292               491676"
      ]
     },
     "execution_count": 43,
     "metadata": {},
     "output_type": "execute_result"
    }
   ],
   "source": [
    "df_select.head()"
   ]
  },
  {
   "cell_type": "code",
   "execution_count": 31,
   "metadata": {},
   "outputs": [
    {
     "data": {
      "image/png": "[encoded data removed]",
      "text/plain": [
       "<Figure size 576x432 with 1 Axes>"
      ]
     },
     "metadata": {},
     "output_type": "display_data"
    }
   ],
   "source": [
    "'''regplot  in the seaborn library  to  determine if the feature \n",
    "MOVE Index is negatively or positively correlated with NAFI Fixed Income volumes.'''\n",
    "from sklearn.metrics import r2_score\n",
    "import seaborn as sns\n",
    "\n",
    "df_select = df_wkly[['FI Trades','> 11yr duration']]\n",
    "plt.figure(figsize = (8,6))\n",
    "#sns.regplot(df_select., df.Price)\n",
    "sns.regplot(x=\"> 11yr duration\",y=\"FI Trades\", data=df_select)\n",
    "#ax.text(1,1000000, 'r2 =  {}'.format(r2_score(Y_wk, Y_pred), fontsize=.5))\n",
    "plt.title('>11yr duration Weekly r2 =  {}'.format(round(r2_score(Y_wk, Y_pred),3), fontsize = 20))\n",
    "\n",
    "plt.ylim(0,)\n",
    "\n",
    "plt.savefig(\"11yrweeklycorr2.png\", dpi = 55)\n",
    "plt.show()\n",
    "\n",
    "wb = openpyxl.load_workbook('FI Weekly Correlation Analysis.xlsx')\n",
    "wb.active = 1\n",
    "ws = wb.active\n",
    "\n",
    "img = openpyxl.drawing.image.Image('11yrweeklycorr2.png')\n",
    "img.anchor = 'B25'\n",
    "\n",
    "ws.add_image(img)\n",
    "wb.save('FI Weekly Correlation Analysis.xlsx')\n",
    "\n"
   ]
  },
  {
   "cell_type": "code",
   "execution_count": 44,
   "metadata": {},
   "outputs": [
    {
     "data": {
      "image/png": "[encoded data removed]",
      "text/plain": [
       "<Figure size 576x432 with 1 Axes>"
      ]
     },
     "metadata": {},
     "output_type": "display_data"
    }
   ],
   "source": [
    "'''regplot  in the seaborn library  to  determine if the feature \n",
    "MOVE Index is negatively or positively correlated with NAFI Fixed Income volumes.'''\n",
    "from sklearn.metrics import r2_score\n",
    "import seaborn as sns\n",
    "\n",
    "#regressing against the total volumes\n",
    "df_select = df_wkly[['FI Trades','All Treasury Volume']]\n",
    "\n",
    "plt.figure(figsize = (8,6))\n",
    "#sns.regplot(df_select., df.Price)\n",
    "sns.regplot(x='All Treasury Volume',y=\"FI Trades\", data=df_select)\n",
    "#ax.text(1,1000000, 'r2 =  {}'.format(r2_score(Y_wk, Y_pred), fontsize=.5))\n",
    "plt.title('All Treasury Volume Weekly r2 =  {}'.format(round(r2_score(tY_wk, tY_pred),3), fontsize = 20))\n",
    "\n",
    "plt.ylim(0,)\n",
    "\n",
    "plt.savefig(\"totalweeklycorr2.png\", dpi = 55)\n",
    "plt.show()\n",
    "\n",
    "wb = openpyxl.load_workbook('FI Weekly Correlation Analysis.xlsx')\n",
    "wb.active = 1\n",
    "ws = wb.active\n",
    "\n",
    "img = openpyxl.drawing.image.Image('totalweeklycorr2.png')\n",
    "img.anchor = 'b45'\n",
    "\n",
    "ws.add_image(img)\n",
    "wb.save('FI Weekly Correlation Analysis.xlsx')\n"
   ]
  },
  {
   "cell_type": "code",
   "execution_count": null,
   "metadata": {},
   "outputs": [],
   "source": []
  }
 ],
 "metadata": {
  "kernelspec": {
   "display_name": "Python",
   "language": "python",
   "name": "conda-env-python-py"
  },
  "language_info": {
   "codemirror_mode": {
    "name": "ipython",
    "version": 3
   },
   "file_extension": ".py",
   "mimetype": "text/x-python",
   "name": "python",
   "nbconvert_exporter": "python",
   "pygments_lexer": "ipython3",
   "version": "3.6.11"
  }
 },
 "nbformat": 4,
 "nbformat_minor": 4
}
